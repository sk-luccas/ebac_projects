{
 "cells": [
  {
   "cell_type": "markdown",
   "id": "a708039d",
   "metadata": {
    "papermill": {
     "duration": 0.019344,
     "end_time": "2024-07-10T16:04:06.224107",
     "exception": false,
     "start_time": "2024-07-10T16:04:06.204763",
     "status": "completed"
    },
    "tags": []
   },
   "source": [
    "## 1\\. Contexto"
   ]
  },
  {
   "cell_type": "markdown",
   "id": "bdc83b1f",
   "metadata": {
    "papermill": {
     "duration": 0.020074,
     "end_time": "2024-07-10T16:04:06.263916",
     "exception": false,
     "start_time": "2024-07-10T16:04:06.243842",
     "status": "completed"
    },
    "tags": []
   },
   "source": [
    "### **1.1.  Loggi**"
   ]
  },
  {
   "cell_type": "markdown",
   "id": "a3008cff",
   "metadata": {
    "papermill": {
     "duration": 0.018677,
     "end_time": "2024-07-10T16:04:06.301393",
     "exception": false,
     "start_time": "2024-07-10T16:04:06.282716",
     "status": "completed"
    },
    "tags": []
   },
   "source": [
    "[<img src=\"https://logodownload.org/wp-content/uploads/2019/07/loggi-logo-1.png\" width=\"250\"/>](image.png)"
   ]
  },
  {
   "cell_type": "markdown",
   "id": "70ba2bb6",
   "metadata": {
    "papermill": {
     "duration": 0.023188,
     "end_time": "2024-07-10T16:04:06.343906",
     "exception": false,
     "start_time": "2024-07-10T16:04:06.320718",
     "status": "completed"
    },
    "tags": []
   },
   "source": [
    "A [Loggi](https://www.loggi.com/) é uma startup unicórnio brasileira de tecnologia focada em **logística**. A Loggi começou entregando apenas documentos entre 2013 e 2014. Dois anos depois, entrou no segmento de e-commerce. E, desde 2017, tem atuado nas entregas de alimentos também."
   ]
  },
  {
   "cell_type": "markdown",
   "id": "d563ee75",
   "metadata": {
    "papermill": {
     "duration": 0.018861,
     "end_time": "2024-07-10T16:04:06.382489",
     "exception": false,
     "start_time": "2024-07-10T16:04:06.363628",
     "status": "completed"
    },
    "tags": []
   },
   "source": [
    "### **1.2.  Loggi BUD**"
   ]
  },
  {
   "cell_type": "markdown",
   "id": "09590fdf",
   "metadata": {
    "papermill": {
     "duration": 0.018918,
     "end_time": "2024-07-10T16:04:06.420197",
     "exception": false,
     "start_time": "2024-07-10T16:04:06.401279",
     "status": "completed"
    },
    "tags": []
   },
   "source": [
    "O Loggi Benchmark for Urban Deliveries (BUD) é um repositório do GitHub ([link](https://github.com/loggi/loggibud)) com dados e códigos para problemas típicos que empresas de logística enfrentam: otimização das rotas de entrega, alocação de entregas nos veículos da frota com capacidade limitada, etc. Os dados são sintetizados de fontes públicas (IBGE, IPEA, etc.) e são representativos dos desafios que a startup enfrenta no dia a dia, especialmente com relação a sua escala."
   ]
  },
  {
   "cell_type": "markdown",
   "id": "b5237ccc",
   "metadata": {
    "papermill": {
     "duration": 0.018319,
     "end_time": "2024-07-10T16:04:06.457409",
     "exception": false,
     "start_time": "2024-07-10T16:04:06.439090",
     "status": "completed"
    },
    "tags": []
   },
   "source": [
    "### **1.3. Dados**"
   ]
  },
  {
   "cell_type": "markdown",
   "id": "d8000dd9",
   "metadata": {
    "papermill": {
     "duration": 0.018349,
     "end_time": "2024-07-10T16:04:06.494419",
     "exception": false,
     "start_time": "2024-07-10T16:04:06.476070",
     "status": "completed"
    },
    "tags": []
   },
   "source": [
    "O conjunto de dados simula o desafio de uma grande empresa de entregas na etapa de última milha da cadeia de suprimentos. Na primeira versão fornecida, há 90 instâncias de treinamento e 30 instâncias de avaliação para o problema de ponta a ponta no Rio de Janeiro (RJ), Brasília (DF) e Belém (PA). Os tamanhos das instâncias variam de 7k a 32k entregas.\n",
    "Os dados que serão analisados nesse Notebook será referete aos dados de entrega do estado do Distrito Federal"
   ]
  },
  {
   "cell_type": "markdown",
   "id": "7160bb9f",
   "metadata": {
    "papermill": {
     "duration": 0.018697,
     "end_time": "2024-07-10T16:04:06.531678",
     "exception": false,
     "start_time": "2024-07-10T16:04:06.512981",
     "status": "completed"
    },
    "tags": []
   },
   "source": [
    "Será utilizado um sub conjunto dos dados originais presentes neste [link](https://github.com/loggi/loggibud/blob/master/docs/quickstart.md). Foi consolidado pelo Professor [André Perez](https://www.linkedin.com/in/andremarcosperez/) em um único arquivo `JSON` as instâncias de treino de `cvrp` da cidade de Brasília"
   ]
  },
  {
   "cell_type": "markdown",
   "id": "faad94ed",
   "metadata": {
    "papermill": {
     "duration": 0.018709,
     "end_time": "2024-07-10T16:04:06.570327",
     "exception": false,
     "start_time": "2024-07-10T16:04:06.551618",
     "status": "completed"
    },
    "tags": []
   },
   "source": [
    "O dado bruto é um arquivo do tipo `JSON` com uma lista de instâncias de entregas. Cada instância representa um conjunto de **entregas** que devem ser realizadas pelos **veículos** do **hub** regional."
   ]
  },
  {
   "cell_type": "code",
   "execution_count": 1,
   "id": "d7e57022",
   "metadata": {
    "execution": {
     "iopub.execute_input": "2024-07-10T16:04:06.610146Z",
     "iopub.status.busy": "2024-07-10T16:04:06.609697Z",
     "iopub.status.idle": "2024-07-10T16:04:06.626033Z",
     "shell.execute_reply": "2024-07-10T16:04:06.624907Z"
    },
    "papermill": {
     "duration": 0.039093,
     "end_time": "2024-07-10T16:04:06.628387",
     "exception": false,
     "start_time": "2024-07-10T16:04:06.589294",
     "status": "completed"
    },
    "tags": []
   },
   "outputs": [
    {
     "data": {
      "text/plain": [
       "Ellipsis"
      ]
     },
     "execution_count": 1,
     "metadata": {},
     "output_type": "execute_result"
    }
   ],
   "source": [
    "[\n",
    "  {\n",
    "    \"name\": \"cvrp-0-df-0\",\n",
    "    \"region\": \"df-0\",\n",
    "    \"origin\": {\"lng\": -47.802664728268745, \"lat\": -15.657013854445248},\n",
    "    \"vehicle_capacity\": 180,\n",
    "    \"deliveries\": [\n",
    "      {\n",
    "        \"id\": \"ed0993f8cc70d998342f38ee827176dc\",\n",
    "        \"point\": {\"lng\": -47.7496622016347, \"lat\": -15.65879313293694},\n",
    "        \"size\": 10\n",
    "      },\n",
    "      {\n",
    "        \"id\": \"c7220154adc7a3def8f0b2b8a42677a9\",\n",
    "        \"point\": {\"lng\": -47.75887552060412, \"lat\": -15.651440380492554},\n",
    "        \"size\": 10\n",
    "      },\n",
    "      ...\n",
    "    ]\n",
    "  }\n",
    "]\n",
    "..."
   ]
  },
  {
   "cell_type": "markdown",
   "id": "9305e895",
   "metadata": {
    "papermill": {
     "duration": 0.018832,
     "end_time": "2024-07-10T16:04:06.725171",
     "exception": false,
     "start_time": "2024-07-10T16:04:06.706339",
     "status": "completed"
    },
    "tags": []
   },
   "source": [
    " **Onde:**\n",
    " \n",
    " - **name**: uma `string` com o nome único da instância;\n",
    " - **region**: uma `string` com o nome único da região do **hub**;\n",
    " - **origin**: um `dict` com a latitude e longitude da região do **hub**;\n",
    " - **vehicle_capacity**: um `int` com a soma da capacidade de carga dos **veículos** do **hub**;\n",
    " - **deliveries**: uma `list` de `dict` com as **entregas** que devem ser realizadas."
   ]
  },
  {
   "cell_type": "markdown",
   "id": "5b0e4b01",
   "metadata": {
    "papermill": {
     "duration": 0.01875,
     "end_time": "2024-07-10T16:04:06.762923",
     "exception": false,
     "start_time": "2024-07-10T16:04:06.744173",
     "status": "completed"
    },
    "tags": []
   },
   "source": [
    " **Onde:**\n",
    " \n",
    "- **id**: uma `string` com o id único da **entrega**;\n",
    "- **point**: um `dict` com a latitude e longitude da **entrega**;\n",
    "- **size**: um `int` com o tamanho ou a carga que a **entrega** ocupa no **veículo**."
   ]
  },
  {
   "cell_type": "markdown",
   "id": "91049f3a",
   "metadata": {
    "papermill": {
     "duration": 0.018722,
     "end_time": "2024-07-10T16:04:06.800847",
     "exception": false,
     "start_time": "2024-07-10T16:04:06.782125",
     "status": "completed"
    },
    "tags": []
   },
   "source": [
    "Nota-se que os dados das entregas encontram-se aninhados na estrutura JSON, sendo necessário uma tratativa aprofundada para estrutrurá-los"
   ]
  },
  {
   "cell_type": "markdown",
   "id": "63591ce4",
   "metadata": {
    "papermill": {
     "duration": 0.0194,
     "end_time": "2024-07-10T16:04:06.839405",
     "exception": false,
     "start_time": "2024-07-10T16:04:06.820005",
     "status": "completed"
    },
    "tags": []
   },
   "source": [
    "## 2\\. Pacotes e Bibliotecas"
   ]
  },
  {
   "cell_type": "markdown",
   "id": "2b5a580f",
   "metadata": {
    "papermill": {
     "duration": 0.019541,
     "end_time": "2024-07-10T16:04:06.879888",
     "exception": false,
     "start_time": "2024-07-10T16:04:06.860347",
     "status": "completed"
    },
    "tags": []
   },
   "source": [
    "Todos os pacotes e bibliotecas que serão utilizados nesse notebook estão presentes abaixo:"
   ]
  },
  {
   "cell_type": "code",
   "execution_count": 2,
   "id": "cdda78cf",
   "metadata": {
    "execution": {
     "iopub.execute_input": "2024-07-10T16:04:06.919425Z",
     "iopub.status.busy": "2024-07-10T16:04:06.919078Z",
     "iopub.status.idle": "2024-07-10T16:04:11.709106Z",
     "shell.execute_reply": "2024-07-10T16:04:11.707713Z"
    },
    "papermill": {
     "duration": 4.813067,
     "end_time": "2024-07-10T16:04:11.711950",
     "exception": false,
     "start_time": "2024-07-10T16:04:06.898883",
     "status": "completed"
    },
    "tags": []
   },
   "outputs": [],
   "source": [
    "import json\n",
    "import math\n",
    "import pandas as pd\n",
    "import geopy\n",
    "import numpy as np\n",
    "import geopandas as gp\n",
    "import matplotlib.pyplot as plt\n",
    "import seaborn as sns\n",
    "from geopy.geocoders import Nominatim\n",
    "from geopy.extra.rate_limiter import RateLimiter\n",
    "from geopy import distance\n",
    "from haversine import haversine"
   ]
  },
  {
   "cell_type": "markdown",
   "id": "926cb786",
   "metadata": {
    "papermill": {
     "duration": 0.020416,
     "end_time": "2024-07-10T16:04:11.753070",
     "exception": false,
     "start_time": "2024-07-10T16:04:11.732654",
     "status": "completed"
    },
    "tags": []
   },
   "source": [
    "## 3\\. Exploração de Dados"
   ]
  },
  {
   "cell_type": "markdown",
   "id": "adbec3cf",
   "metadata": {
    "papermill": {
     "duration": 0.019374,
     "end_time": "2024-07-10T16:04:11.792673",
     "exception": false,
     "start_time": "2024-07-10T16:04:11.773299",
     "status": "completed"
    },
    "tags": []
   },
   "source": [
    "### **3.1. Coleta de Dados**"
   ]
  },
  {
   "cell_type": "markdown",
   "id": "ee0fdbda",
   "metadata": {
    "papermill": {
     "duration": 0.021796,
     "end_time": "2024-07-10T16:04:11.835020",
     "exception": false,
     "start_time": "2024-07-10T16:04:11.813224",
     "status": "completed"
    },
    "tags": []
   },
   "source": [
    "O dado bruto está disponível para download neste [link](https://github.com/andre-marcos-perez/ebac-course-utils/blob/main/dataset/deliveries.json). O download será realizado e salvo em um arquivo JSON com o nome deliveries.json."
   ]
  },
  {
   "cell_type": "code",
   "execution_count": 3,
   "id": "d574b3db",
   "metadata": {
    "_cell_guid": "b1076dfc-b9ad-4769-8c92-a6c4dae69d19",
    "_uuid": "8f2839f25d086af736a60e9eeb907d3b93b6e0e5",
    "execution": {
     "iopub.execute_input": "2024-07-10T16:04:11.893253Z",
     "iopub.status.busy": "2024-07-10T16:04:11.892700Z",
     "iopub.status.idle": "2024-07-10T16:04:15.371783Z",
     "shell.execute_reply": "2024-07-10T16:04:15.370339Z"
    },
    "papermill": {
     "duration": 3.509798,
     "end_time": "2024-07-10T16:04:15.374714",
     "exception": false,
     "start_time": "2024-07-10T16:04:11.864916",
     "status": "completed"
    },
    "tags": []
   },
   "outputs": [],
   "source": [
    "!wget -q \"https://raw.githubusercontent.com/andre-marcos-perez/ebac-course-utils/main/dataset/deliveries.json\" -O deliveries.json"
   ]
  },
  {
   "cell_type": "markdown",
   "id": "9a8a3de1",
   "metadata": {
    "papermill": {
     "duration": 0.019492,
     "end_time": "2024-07-10T16:04:15.413405",
     "exception": false,
     "start_time": "2024-07-10T16:04:15.393913",
     "status": "completed"
    },
    "tags": []
   },
   "source": [
    "Os dados do arquivo será carregado em dicionário Python chamado de `data` e depois transformado em um DataFrame pandas chamado `df_deliveries`, onde serão realizados todos os procedimentos de análise com base da biblioteca Pandas."
   ]
  },
  {
   "cell_type": "code",
   "execution_count": 4,
   "id": "a2c873f4",
   "metadata": {
    "execution": {
     "iopub.execute_input": "2024-07-10T16:04:15.455025Z",
     "iopub.status.busy": "2024-07-10T16:04:15.454577Z",
     "iopub.status.idle": "2024-07-10T16:04:18.140185Z",
     "shell.execute_reply": "2024-07-10T16:04:18.139068Z"
    },
    "papermill": {
     "duration": 2.709288,
     "end_time": "2024-07-10T16:04:18.142909",
     "exception": false,
     "start_time": "2024-07-10T16:04:15.433621",
     "status": "completed"
    },
    "tags": []
   },
   "outputs": [],
   "source": [
    "with open(file= 'deliveries.json', mode= 'r', encoding= 'utf8') as f:\n",
    "    data= json.load(f)\n",
    "    \n",
    "df_deliveries = pd.DataFrame(data)"
   ]
  },
  {
   "cell_type": "code",
   "execution_count": 5,
   "id": "064281ed",
   "metadata": {
    "execution": {
     "iopub.execute_input": "2024-07-10T16:04:18.183772Z",
     "iopub.status.busy": "2024-07-10T16:04:18.183414Z",
     "iopub.status.idle": "2024-07-10T16:04:18.372915Z",
     "shell.execute_reply": "2024-07-10T16:04:18.371785Z"
    },
    "papermill": {
     "duration": 0.213035,
     "end_time": "2024-07-10T16:04:18.375428",
     "exception": false,
     "start_time": "2024-07-10T16:04:18.162393",
     "status": "completed"
    },
    "tags": []
   },
   "outputs": [
    {
     "data": {
      "text/html": [
       "<div>\n",
       "<style scoped>\n",
       "    .dataframe tbody tr th:only-of-type {\n",
       "        vertical-align: middle;\n",
       "    }\n",
       "\n",
       "    .dataframe tbody tr th {\n",
       "        vertical-align: top;\n",
       "    }\n",
       "\n",
       "    .dataframe thead th {\n",
       "        text-align: right;\n",
       "    }\n",
       "</style>\n",
       "<table border=\"1\" class=\"dataframe\">\n",
       "  <thead>\n",
       "    <tr style=\"text-align: right;\">\n",
       "      <th></th>\n",
       "      <th>name</th>\n",
       "      <th>region</th>\n",
       "      <th>origin</th>\n",
       "      <th>vehicle_capacity</th>\n",
       "      <th>deliveries</th>\n",
       "    </tr>\n",
       "  </thead>\n",
       "  <tbody>\n",
       "    <tr>\n",
       "      <th>0</th>\n",
       "      <td>cvrp-2-df-33</td>\n",
       "      <td>df-2</td>\n",
       "      <td>{'lng': -48.05498915846707, 'lat': -15.8381445...</td>\n",
       "      <td>180</td>\n",
       "      <td>[{'id': '313483a19d2f8d65cd5024c8d215cfbd', 'p...</td>\n",
       "    </tr>\n",
       "    <tr>\n",
       "      <th>1</th>\n",
       "      <td>cvrp-2-df-73</td>\n",
       "      <td>df-2</td>\n",
       "      <td>{'lng': -48.05498915846707, 'lat': -15.8381445...</td>\n",
       "      <td>180</td>\n",
       "      <td>[{'id': 'bf3fc630b1c29601a4caf1bdd474b85', 'po...</td>\n",
       "    </tr>\n",
       "    <tr>\n",
       "      <th>2</th>\n",
       "      <td>cvrp-2-df-20</td>\n",
       "      <td>df-2</td>\n",
       "      <td>{'lng': -48.05498915846707, 'lat': -15.8381445...</td>\n",
       "      <td>180</td>\n",
       "      <td>[{'id': 'b30f1145a2ba4e0b9ac0162b68d045c3', 'p...</td>\n",
       "    </tr>\n",
       "  </tbody>\n",
       "</table>\n",
       "</div>"
      ],
      "text/plain": [
       "           name region                                             origin  \\\n",
       "0  cvrp-2-df-33   df-2  {'lng': -48.05498915846707, 'lat': -15.8381445...   \n",
       "1  cvrp-2-df-73   df-2  {'lng': -48.05498915846707, 'lat': -15.8381445...   \n",
       "2  cvrp-2-df-20   df-2  {'lng': -48.05498915846707, 'lat': -15.8381445...   \n",
       "\n",
       "   vehicle_capacity                                         deliveries  \n",
       "0               180  [{'id': '313483a19d2f8d65cd5024c8d215cfbd', 'p...  \n",
       "1               180  [{'id': 'bf3fc630b1c29601a4caf1bdd474b85', 'po...  \n",
       "2               180  [{'id': 'b30f1145a2ba4e0b9ac0162b68d045c3', 'p...  "
      ]
     },
     "execution_count": 5,
     "metadata": {},
     "output_type": "execute_result"
    }
   ],
   "source": [
    "df_deliveries.head(3)"
   ]
  },
  {
   "cell_type": "markdown",
   "id": "9689f666",
   "metadata": {
    "papermill": {
     "duration": 0.019748,
     "end_time": "2024-07-10T16:04:18.415463",
     "exception": false,
     "start_time": "2024-07-10T16:04:18.395715",
     "status": "completed"
    },
    "tags": []
   },
   "source": [
    "### **3.1. Data Wrangling**"
   ]
  },
  {
   "cell_type": "markdown",
   "id": "8ad29a4f",
   "metadata": {
    "papermill": {
     "duration": 0.020013,
     "end_time": "2024-07-10T16:04:18.455612",
     "exception": false,
     "start_time": "2024-07-10T16:04:18.435599",
     "status": "completed"
    },
    "tags": []
   },
   "source": [
    "Realizando uma verificação rápida, nota-se que as colunas `deliveries` e `origin` possuem dados aninhados que precisarão ser tratados para dar prosseguimento com a análise. \n",
    "\n",
    "Será utlizado o método `json_normalize` do próprio Pandas para a tratativa do coluna `origin` e o método `explode` para a tratativa da coluna `deliveries`."
   ]
  },
  {
   "cell_type": "markdown",
   "id": "5b8a39b9",
   "metadata": {
    "papermill": {
     "duration": 0.019047,
     "end_time": "2024-07-10T16:04:18.494702",
     "exception": false,
     "start_time": "2024-07-10T16:04:18.475655",
     "status": "completed"
    },
    "tags": []
   },
   "source": [
    "* Coluna `origin`"
   ]
  },
  {
   "cell_type": "code",
   "execution_count": 6,
   "id": "0c4f1ef9",
   "metadata": {
    "execution": {
     "iopub.execute_input": "2024-07-10T16:04:18.535155Z",
     "iopub.status.busy": "2024-07-10T16:04:18.534767Z",
     "iopub.status.idle": "2024-07-10T16:04:18.555164Z",
     "shell.execute_reply": "2024-07-10T16:04:18.554040Z"
    },
    "papermill": {
     "duration": 0.043479,
     "end_time": "2024-07-10T16:04:18.557536",
     "exception": false,
     "start_time": "2024-07-10T16:04:18.514057",
     "status": "completed"
    },
    "tags": []
   },
   "outputs": [],
   "source": [
    "# Criação de um novo DataFrame com os dados da coluna 'origin' normalizados usando a operação 'flatten'\n",
    "df_hubs_origin = pd.json_normalize(df_deliveries['origin'])\n",
    "df_hubs_origin.rename(columns= {'lng': 'hub_lng','lat': 'hub_lat'}, inplace= True)\n",
    "\n",
    "# Após realizado a normalização dos dados é realizada a inclusão ao DataFrame principal, utilizando o método 'merge'\n",
    "df_deliveries = pd.merge(left= df_deliveries, right= df_hubs_origin, how= 'inner', left_index= True, right_index= True)\n",
    "df_deliveries = df_deliveries.drop('origin', axis= 1)\n",
    "\n",
    "# Reordenação das novas colunas\n",
    "df_deliveries = df_deliveries[['name', 'region', 'hub_lng', 'hub_lat', 'vehicle_capacity', 'deliveries']]"
   ]
  },
  {
   "cell_type": "markdown",
   "id": "4c97fb93",
   "metadata": {
    "papermill": {
     "duration": 0.019158,
     "end_time": "2024-07-10T16:04:18.597464",
     "exception": false,
     "start_time": "2024-07-10T16:04:18.578306",
     "status": "completed"
    },
    "tags": []
   },
   "source": [
    "* Coluna `deliveries`"
   ]
  },
  {
   "cell_type": "code",
   "execution_count": 7,
   "id": "3bd0b09a",
   "metadata": {
    "execution": {
     "iopub.execute_input": "2024-07-10T16:04:18.638586Z",
     "iopub.status.busy": "2024-07-10T16:04:18.638207Z",
     "iopub.status.idle": "2024-07-10T16:04:19.737977Z",
     "shell.execute_reply": "2024-07-10T16:04:19.737035Z"
    },
    "papermill": {
     "duration": 1.12322,
     "end_time": "2024-07-10T16:04:19.740497",
     "exception": false,
     "start_time": "2024-07-10T16:04:18.617277",
     "status": "completed"
    },
    "tags": []
   },
   "outputs": [],
   "source": [
    "# Utilização do método 'explode' com os dados da coluna 'deliveries'\n",
    "df_deliveries_explode = df_deliveries[['deliveries']].explode('deliveries')\n",
    "\n",
    "# Utilizado o a operação 'flatten', ordenando cada key como uma coluna separada e sem perder os index para poder ser realizada a inclusão baseada neles posteriormente\n",
    "df_deliveries_normalize = pd.concat([\n",
    "    pd.DataFrame(df_deliveries_explode['deliveries'].apply(lambda rec: rec['id'])).rename(columns= {'deliveries': 'delivery_id'}),\n",
    "    pd.DataFrame(df_deliveries_explode['deliveries'].apply(lambda rec: rec['point']['lng'])).rename(columns= {'deliveries': 'delivery_lng'}),\n",
    "    pd.DataFrame(df_deliveries_explode['deliveries'].apply(lambda rec: rec['point']['lat'])).rename(columns= {'deliveries': 'delivery_lat'}),\n",
    "    pd.DataFrame(df_deliveries_explode['deliveries'].apply(lambda rec: rec['size'])).rename(columns= {'deliveries': 'delivery_size'})\n",
    "], axis= 1)\n",
    "\n",
    "# inclusão ao DataFrame principal, utilizando o método 'merge'\n",
    "df_deliveries = pd.merge(left= df_deliveries, right= df_deliveries_normalize, how= 'right', left_index= True, right_index= True)\n",
    "df_deliveries = df_deliveries.drop(columns= ['deliveries'])\n",
    "df_deliveries.reset_index(inplace= True, drop= True)"
   ]
  },
  {
   "cell_type": "code",
   "execution_count": 8,
   "id": "4f2ef59a",
   "metadata": {
    "execution": {
     "iopub.execute_input": "2024-07-10T16:04:19.783433Z",
     "iopub.status.busy": "2024-07-10T16:04:19.783035Z",
     "iopub.status.idle": "2024-07-10T16:04:19.800602Z",
     "shell.execute_reply": "2024-07-10T16:04:19.799146Z"
    },
    "papermill": {
     "duration": 0.04168,
     "end_time": "2024-07-10T16:04:19.803400",
     "exception": false,
     "start_time": "2024-07-10T16:04:19.761720",
     "status": "completed"
    },
    "tags": []
   },
   "outputs": [
    {
     "data": {
      "text/html": [
       "<div>\n",
       "<style scoped>\n",
       "    .dataframe tbody tr th:only-of-type {\n",
       "        vertical-align: middle;\n",
       "    }\n",
       "\n",
       "    .dataframe tbody tr th {\n",
       "        vertical-align: top;\n",
       "    }\n",
       "\n",
       "    .dataframe thead th {\n",
       "        text-align: right;\n",
       "    }\n",
       "</style>\n",
       "<table border=\"1\" class=\"dataframe\">\n",
       "  <thead>\n",
       "    <tr style=\"text-align: right;\">\n",
       "      <th></th>\n",
       "      <th>name</th>\n",
       "      <th>region</th>\n",
       "      <th>hub_lng</th>\n",
       "      <th>hub_lat</th>\n",
       "      <th>vehicle_capacity</th>\n",
       "      <th>delivery_id</th>\n",
       "      <th>delivery_lng</th>\n",
       "      <th>delivery_lat</th>\n",
       "      <th>delivery_size</th>\n",
       "    </tr>\n",
       "  </thead>\n",
       "  <tbody>\n",
       "    <tr>\n",
       "      <th>0</th>\n",
       "      <td>cvrp-2-df-33</td>\n",
       "      <td>df-2</td>\n",
       "      <td>-48.054989</td>\n",
       "      <td>-15.838145</td>\n",
       "      <td>180</td>\n",
       "      <td>313483a19d2f8d65cd5024c8d215cfbd</td>\n",
       "      <td>-48.116189</td>\n",
       "      <td>-15.848929</td>\n",
       "      <td>9</td>\n",
       "    </tr>\n",
       "    <tr>\n",
       "      <th>1</th>\n",
       "      <td>cvrp-2-df-33</td>\n",
       "      <td>df-2</td>\n",
       "      <td>-48.054989</td>\n",
       "      <td>-15.838145</td>\n",
       "      <td>180</td>\n",
       "      <td>320c94b17aa685c939b3f3244c3099de</td>\n",
       "      <td>-48.118195</td>\n",
       "      <td>-15.850772</td>\n",
       "      <td>2</td>\n",
       "    </tr>\n",
       "    <tr>\n",
       "      <th>2</th>\n",
       "      <td>cvrp-2-df-33</td>\n",
       "      <td>df-2</td>\n",
       "      <td>-48.054989</td>\n",
       "      <td>-15.838145</td>\n",
       "      <td>180</td>\n",
       "      <td>3663b42f4b8decb33059febaba46d5c8</td>\n",
       "      <td>-48.112483</td>\n",
       "      <td>-15.847871</td>\n",
       "      <td>1</td>\n",
       "    </tr>\n",
       "  </tbody>\n",
       "</table>\n",
       "</div>"
      ],
      "text/plain": [
       "           name region    hub_lng    hub_lat  vehicle_capacity  \\\n",
       "0  cvrp-2-df-33   df-2 -48.054989 -15.838145               180   \n",
       "1  cvrp-2-df-33   df-2 -48.054989 -15.838145               180   \n",
       "2  cvrp-2-df-33   df-2 -48.054989 -15.838145               180   \n",
       "\n",
       "                        delivery_id  delivery_lng  delivery_lat  delivery_size  \n",
       "0  313483a19d2f8d65cd5024c8d215cfbd    -48.116189    -15.848929              9  \n",
       "1  320c94b17aa685c939b3f3244c3099de    -48.118195    -15.850772              2  \n",
       "2  3663b42f4b8decb33059febaba46d5c8    -48.112483    -15.847871              1  "
      ]
     },
     "execution_count": 8,
     "metadata": {},
     "output_type": "execute_result"
    }
   ],
   "source": [
    "df_deliveries.head(3)"
   ]
  },
  {
   "cell_type": "markdown",
   "id": "7efda56e",
   "metadata": {
    "papermill": {
     "duration": 0.019713,
     "end_time": "2024-07-10T16:04:19.844112",
     "exception": false,
     "start_time": "2024-07-10T16:04:19.824399",
     "status": "completed"
    },
    "tags": []
   },
   "source": [
    "### **3.1. Estrutura dos Dados**"
   ]
  },
  {
   "cell_type": "code",
   "execution_count": 9,
   "id": "49989cb0",
   "metadata": {
    "execution": {
     "iopub.execute_input": "2024-07-10T16:04:19.887685Z",
     "iopub.status.busy": "2024-07-10T16:04:19.887333Z",
     "iopub.status.idle": "2024-07-10T16:04:19.893934Z",
     "shell.execute_reply": "2024-07-10T16:04:19.892845Z"
    },
    "papermill": {
     "duration": 0.030211,
     "end_time": "2024-07-10T16:04:19.896057",
     "exception": false,
     "start_time": "2024-07-10T16:04:19.865846",
     "status": "completed"
    },
    "tags": []
   },
   "outputs": [
    {
     "data": {
      "text/plain": [
       "(636149, 9)"
      ]
     },
     "execution_count": 9,
     "metadata": {},
     "output_type": "execute_result"
    }
   ],
   "source": [
    "df_deliveries.shape"
   ]
  },
  {
   "cell_type": "code",
   "execution_count": 10,
   "id": "cc61f242",
   "metadata": {
    "execution": {
     "iopub.execute_input": "2024-07-10T16:04:19.939298Z",
     "iopub.status.busy": "2024-07-10T16:04:19.938909Z",
     "iopub.status.idle": "2024-07-10T16:04:19.945857Z",
     "shell.execute_reply": "2024-07-10T16:04:19.944644Z"
    },
    "papermill": {
     "duration": 0.030457,
     "end_time": "2024-07-10T16:04:19.948194",
     "exception": false,
     "start_time": "2024-07-10T16:04:19.917737",
     "status": "completed"
    },
    "tags": []
   },
   "outputs": [
    {
     "data": {
      "text/plain": [
       "Index(['name', 'region', 'hub_lng', 'hub_lat', 'vehicle_capacity',\n",
       "       'delivery_id', 'delivery_lng', 'delivery_lat', 'delivery_size'],\n",
       "      dtype='object')"
      ]
     },
     "execution_count": 10,
     "metadata": {},
     "output_type": "execute_result"
    }
   ],
   "source": [
    "df_deliveries.columns"
   ]
  },
  {
   "cell_type": "code",
   "execution_count": 11,
   "id": "c35c9429",
   "metadata": {
    "execution": {
     "iopub.execute_input": "2024-07-10T16:04:19.990922Z",
     "iopub.status.busy": "2024-07-10T16:04:19.990530Z",
     "iopub.status.idle": "2024-07-10T16:04:19.997271Z",
     "shell.execute_reply": "2024-07-10T16:04:19.996247Z"
    },
    "papermill": {
     "duration": 0.030325,
     "end_time": "2024-07-10T16:04:19.999511",
     "exception": false,
     "start_time": "2024-07-10T16:04:19.969186",
     "status": "completed"
    },
    "tags": []
   },
   "outputs": [
    {
     "data": {
      "text/plain": [
       "RangeIndex(start=0, stop=636149, step=1)"
      ]
     },
     "execution_count": 11,
     "metadata": {},
     "output_type": "execute_result"
    }
   ],
   "source": [
    "df_deliveries.index"
   ]
  },
  {
   "cell_type": "code",
   "execution_count": 12,
   "id": "191ca826",
   "metadata": {
    "execution": {
     "iopub.execute_input": "2024-07-10T16:04:20.043414Z",
     "iopub.status.busy": "2024-07-10T16:04:20.043038Z",
     "iopub.status.idle": "2024-07-10T16:04:20.157491Z",
     "shell.execute_reply": "2024-07-10T16:04:20.156172Z"
    },
    "papermill": {
     "duration": 0.139862,
     "end_time": "2024-07-10T16:04:20.160862",
     "exception": false,
     "start_time": "2024-07-10T16:04:20.021000",
     "status": "completed"
    },
    "tags": []
   },
   "outputs": [
    {
     "name": "stdout",
     "output_type": "stream",
     "text": [
      "<class 'pandas.core.frame.DataFrame'>\n",
      "RangeIndex: 636149 entries, 0 to 636148\n",
      "Data columns (total 9 columns):\n",
      " #   Column            Non-Null Count   Dtype  \n",
      "---  ------            --------------   -----  \n",
      " 0   name              636149 non-null  object \n",
      " 1   region            636149 non-null  object \n",
      " 2   hub_lng           636149 non-null  float64\n",
      " 3   hub_lat           636149 non-null  float64\n",
      " 4   vehicle_capacity  636149 non-null  int64  \n",
      " 5   delivery_id       636149 non-null  object \n",
      " 6   delivery_lng      636149 non-null  float64\n",
      " 7   delivery_lat      636149 non-null  float64\n",
      " 8   delivery_size     636149 non-null  int64  \n",
      "dtypes: float64(4), int64(2), object(3)\n",
      "memory usage: 43.7+ MB\n"
     ]
    }
   ],
   "source": [
    "df_deliveries.info()"
   ]
  },
  {
   "cell_type": "markdown",
   "id": "8e5a82c2",
   "metadata": {
    "papermill": {
     "duration": 0.020091,
     "end_time": "2024-07-10T16:04:20.202518",
     "exception": false,
     "start_time": "2024-07-10T16:04:20.182427",
     "status": "completed"
    },
    "tags": []
   },
   "source": [
    "### **3.2. Schema**"
   ]
  },
  {
   "cell_type": "code",
   "execution_count": 13,
   "id": "cafb3f52",
   "metadata": {
    "execution": {
     "iopub.execute_input": "2024-07-10T16:04:20.245552Z",
     "iopub.status.busy": "2024-07-10T16:04:20.245154Z",
     "iopub.status.idle": "2024-07-10T16:04:20.260112Z",
     "shell.execute_reply": "2024-07-10T16:04:20.258883Z"
    },
    "papermill": {
     "duration": 0.039631,
     "end_time": "2024-07-10T16:04:20.262506",
     "exception": false,
     "start_time": "2024-07-10T16:04:20.222875",
     "status": "completed"
    },
    "tags": []
   },
   "outputs": [
    {
     "data": {
      "text/html": [
       "<div>\n",
       "<style scoped>\n",
       "    .dataframe tbody tr th:only-of-type {\n",
       "        vertical-align: middle;\n",
       "    }\n",
       "\n",
       "    .dataframe tbody tr th {\n",
       "        vertical-align: top;\n",
       "    }\n",
       "\n",
       "    .dataframe thead th {\n",
       "        text-align: right;\n",
       "    }\n",
       "</style>\n",
       "<table border=\"1\" class=\"dataframe\">\n",
       "  <thead>\n",
       "    <tr style=\"text-align: right;\">\n",
       "      <th></th>\n",
       "      <th>name</th>\n",
       "      <th>region</th>\n",
       "      <th>hub_lng</th>\n",
       "      <th>hub_lat</th>\n",
       "      <th>vehicle_capacity</th>\n",
       "      <th>delivery_id</th>\n",
       "      <th>delivery_lng</th>\n",
       "      <th>delivery_lat</th>\n",
       "      <th>delivery_size</th>\n",
       "    </tr>\n",
       "  </thead>\n",
       "  <tbody>\n",
       "    <tr>\n",
       "      <th>0</th>\n",
       "      <td>cvrp-2-df-33</td>\n",
       "      <td>df-2</td>\n",
       "      <td>-48.054989</td>\n",
       "      <td>-15.838145</td>\n",
       "      <td>180</td>\n",
       "      <td>313483a19d2f8d65cd5024c8d215cfbd</td>\n",
       "      <td>-48.116189</td>\n",
       "      <td>-15.848929</td>\n",
       "      <td>9</td>\n",
       "    </tr>\n",
       "    <tr>\n",
       "      <th>1</th>\n",
       "      <td>cvrp-2-df-33</td>\n",
       "      <td>df-2</td>\n",
       "      <td>-48.054989</td>\n",
       "      <td>-15.838145</td>\n",
       "      <td>180</td>\n",
       "      <td>320c94b17aa685c939b3f3244c3099de</td>\n",
       "      <td>-48.118195</td>\n",
       "      <td>-15.850772</td>\n",
       "      <td>2</td>\n",
       "    </tr>\n",
       "    <tr>\n",
       "      <th>2</th>\n",
       "      <td>cvrp-2-df-33</td>\n",
       "      <td>df-2</td>\n",
       "      <td>-48.054989</td>\n",
       "      <td>-15.838145</td>\n",
       "      <td>180</td>\n",
       "      <td>3663b42f4b8decb33059febaba46d5c8</td>\n",
       "      <td>-48.112483</td>\n",
       "      <td>-15.847871</td>\n",
       "      <td>1</td>\n",
       "    </tr>\n",
       "    <tr>\n",
       "      <th>3</th>\n",
       "      <td>cvrp-2-df-33</td>\n",
       "      <td>df-2</td>\n",
       "      <td>-48.054989</td>\n",
       "      <td>-15.838145</td>\n",
       "      <td>180</td>\n",
       "      <td>e11ab58363c38d6abc90d5fba87b7d7</td>\n",
       "      <td>-48.118023</td>\n",
       "      <td>-15.846471</td>\n",
       "      <td>2</td>\n",
       "    </tr>\n",
       "    <tr>\n",
       "      <th>4</th>\n",
       "      <td>cvrp-2-df-33</td>\n",
       "      <td>df-2</td>\n",
       "      <td>-48.054989</td>\n",
       "      <td>-15.838145</td>\n",
       "      <td>180</td>\n",
       "      <td>54cb45b7bbbd4e34e7150900f92d7f4b</td>\n",
       "      <td>-48.114898</td>\n",
       "      <td>-15.858055</td>\n",
       "      <td>7</td>\n",
       "    </tr>\n",
       "  </tbody>\n",
       "</table>\n",
       "</div>"
      ],
      "text/plain": [
       "           name region    hub_lng    hub_lat  vehicle_capacity  \\\n",
       "0  cvrp-2-df-33   df-2 -48.054989 -15.838145               180   \n",
       "1  cvrp-2-df-33   df-2 -48.054989 -15.838145               180   \n",
       "2  cvrp-2-df-33   df-2 -48.054989 -15.838145               180   \n",
       "3  cvrp-2-df-33   df-2 -48.054989 -15.838145               180   \n",
       "4  cvrp-2-df-33   df-2 -48.054989 -15.838145               180   \n",
       "\n",
       "                        delivery_id  delivery_lng  delivery_lat  delivery_size  \n",
       "0  313483a19d2f8d65cd5024c8d215cfbd    -48.116189    -15.848929              9  \n",
       "1  320c94b17aa685c939b3f3244c3099de    -48.118195    -15.850772              2  \n",
       "2  3663b42f4b8decb33059febaba46d5c8    -48.112483    -15.847871              1  \n",
       "3   e11ab58363c38d6abc90d5fba87b7d7    -48.118023    -15.846471              2  \n",
       "4  54cb45b7bbbd4e34e7150900f92d7f4b    -48.114898    -15.858055              7  "
      ]
     },
     "execution_count": 13,
     "metadata": {},
     "output_type": "execute_result"
    }
   ],
   "source": [
    "df_deliveries.head(5)"
   ]
  },
  {
   "cell_type": "code",
   "execution_count": 14,
   "id": "32dcef43",
   "metadata": {
    "execution": {
     "iopub.execute_input": "2024-07-10T16:04:20.306119Z",
     "iopub.status.busy": "2024-07-10T16:04:20.305732Z",
     "iopub.status.idle": "2024-07-10T16:04:20.313975Z",
     "shell.execute_reply": "2024-07-10T16:04:20.312880Z"
    },
    "papermill": {
     "duration": 0.03266,
     "end_time": "2024-07-10T16:04:20.316279",
     "exception": false,
     "start_time": "2024-07-10T16:04:20.283619",
     "status": "completed"
    },
    "tags": []
   },
   "outputs": [
    {
     "data": {
      "text/plain": [
       "name                 object\n",
       "region               object\n",
       "hub_lng             float64\n",
       "hub_lat             float64\n",
       "vehicle_capacity      int64\n",
       "delivery_id          object\n",
       "delivery_lng        float64\n",
       "delivery_lat        float64\n",
       "delivery_size         int64\n",
       "dtype: object"
      ]
     },
     "execution_count": 14,
     "metadata": {},
     "output_type": "execute_result"
    }
   ],
   "source": [
    "df_deliveries.dtypes"
   ]
  },
  {
   "cell_type": "code",
   "execution_count": 15,
   "id": "28a532c4",
   "metadata": {
    "execution": {
     "iopub.execute_input": "2024-07-10T16:04:20.359581Z",
     "iopub.status.busy": "2024-07-10T16:04:20.359233Z",
     "iopub.status.idle": "2024-07-10T16:04:21.169520Z",
     "shell.execute_reply": "2024-07-10T16:04:21.168374Z"
    },
    "papermill": {
     "duration": 0.834615,
     "end_time": "2024-07-10T16:04:21.172037",
     "exception": false,
     "start_time": "2024-07-10T16:04:20.337422",
     "status": "completed"
    },
    "tags": []
   },
   "outputs": [
    {
     "data": {
      "text/html": [
       "<div>\n",
       "<style scoped>\n",
       "    .dataframe tbody tr th:only-of-type {\n",
       "        vertical-align: middle;\n",
       "    }\n",
       "\n",
       "    .dataframe tbody tr th {\n",
       "        vertical-align: top;\n",
       "    }\n",
       "\n",
       "    .dataframe thead th {\n",
       "        text-align: right;\n",
       "    }\n",
       "</style>\n",
       "<table border=\"1\" class=\"dataframe\">\n",
       "  <thead>\n",
       "    <tr style=\"text-align: right;\">\n",
       "      <th></th>\n",
       "      <th>count</th>\n",
       "      <th>unique</th>\n",
       "      <th>top</th>\n",
       "      <th>freq</th>\n",
       "    </tr>\n",
       "  </thead>\n",
       "  <tbody>\n",
       "    <tr>\n",
       "      <th>name</th>\n",
       "      <td>636149</td>\n",
       "      <td>199</td>\n",
       "      <td>cvrp-1-df-87</td>\n",
       "      <td>5636</td>\n",
       "    </tr>\n",
       "    <tr>\n",
       "      <th>region</th>\n",
       "      <td>636149</td>\n",
       "      <td>3</td>\n",
       "      <td>df-1</td>\n",
       "      <td>304708</td>\n",
       "    </tr>\n",
       "    <tr>\n",
       "      <th>delivery_id</th>\n",
       "      <td>636149</td>\n",
       "      <td>291566</td>\n",
       "      <td>61b87669243974d021c2b76fc5272045</td>\n",
       "      <td>12</td>\n",
       "    </tr>\n",
       "  </tbody>\n",
       "</table>\n",
       "</div>"
      ],
      "text/plain": [
       "              count  unique                               top    freq\n",
       "name         636149     199                      cvrp-1-df-87    5636\n",
       "region       636149       3                              df-1  304708\n",
       "delivery_id  636149  291566  61b87669243974d021c2b76fc5272045      12"
      ]
     },
     "execution_count": 15,
     "metadata": {},
     "output_type": "execute_result"
    }
   ],
   "source": [
    "df_deliveries.select_dtypes('object').describe().transpose()"
   ]
  },
  {
   "cell_type": "code",
   "execution_count": 16,
   "id": "cb838fab",
   "metadata": {
    "execution": {
     "iopub.execute_input": "2024-07-10T16:04:21.216295Z",
     "iopub.status.busy": "2024-07-10T16:04:21.215931Z",
     "iopub.status.idle": "2024-07-10T16:04:21.277702Z",
     "shell.execute_reply": "2024-07-10T16:04:21.276524Z"
    },
    "papermill": {
     "duration": 0.086695,
     "end_time": "2024-07-10T16:04:21.280413",
     "exception": false,
     "start_time": "2024-07-10T16:04:21.193718",
     "status": "completed"
    },
    "tags": []
   },
   "outputs": [
    {
     "data": {
      "text/html": [
       "<div>\n",
       "<style scoped>\n",
       "    .dataframe tbody tr th:only-of-type {\n",
       "        vertical-align: middle;\n",
       "    }\n",
       "\n",
       "    .dataframe tbody tr th {\n",
       "        vertical-align: top;\n",
       "    }\n",
       "\n",
       "    .dataframe thead th {\n",
       "        text-align: right;\n",
       "    }\n",
       "</style>\n",
       "<table border=\"1\" class=\"dataframe\">\n",
       "  <thead>\n",
       "    <tr style=\"text-align: right;\">\n",
       "      <th></th>\n",
       "      <th>count</th>\n",
       "      <th>mean</th>\n",
       "      <th>std</th>\n",
       "      <th>min</th>\n",
       "      <th>25%</th>\n",
       "      <th>50%</th>\n",
       "      <th>75%</th>\n",
       "      <th>max</th>\n",
       "    </tr>\n",
       "  </thead>\n",
       "  <tbody>\n",
       "    <tr>\n",
       "      <th>vehicle_capacity</th>\n",
       "      <td>636149.0</td>\n",
       "      <td>180.000000</td>\n",
       "      <td>0.000000</td>\n",
       "      <td>180.0</td>\n",
       "      <td>180.0</td>\n",
       "      <td>180.0</td>\n",
       "      <td>180.0</td>\n",
       "      <td>180.0</td>\n",
       "    </tr>\n",
       "    <tr>\n",
       "      <th>delivery_size</th>\n",
       "      <td>636149.0</td>\n",
       "      <td>5.512111</td>\n",
       "      <td>2.874557</td>\n",
       "      <td>1.0</td>\n",
       "      <td>3.0</td>\n",
       "      <td>6.0</td>\n",
       "      <td>8.0</td>\n",
       "      <td>10.0</td>\n",
       "    </tr>\n",
       "  </tbody>\n",
       "</table>\n",
       "</div>"
      ],
      "text/plain": [
       "                     count        mean       std    min    25%    50%    75%  \\\n",
       "vehicle_capacity  636149.0  180.000000  0.000000  180.0  180.0  180.0  180.0   \n",
       "delivery_size     636149.0    5.512111  2.874557    1.0    3.0    6.0    8.0   \n",
       "\n",
       "                    max  \n",
       "vehicle_capacity  180.0  \n",
       "delivery_size      10.0  "
      ]
     },
     "execution_count": 16,
     "metadata": {},
     "output_type": "execute_result"
    }
   ],
   "source": [
    "df_deliveries.select_dtypes('int64').describe().transpose()"
   ]
  },
  {
   "cell_type": "code",
   "execution_count": 17,
   "id": "0b0837a3",
   "metadata": {
    "execution": {
     "iopub.execute_input": "2024-07-10T16:04:21.324301Z",
     "iopub.status.busy": "2024-07-10T16:04:21.323903Z",
     "iopub.status.idle": "2024-07-10T16:04:21.423264Z",
     "shell.execute_reply": "2024-07-10T16:04:21.422066Z"
    },
    "papermill": {
     "duration": 0.123865,
     "end_time": "2024-07-10T16:04:21.425758",
     "exception": false,
     "start_time": "2024-07-10T16:04:21.301893",
     "status": "completed"
    },
    "tags": []
   },
   "outputs": [
    {
     "data": {
      "text/plain": [
       "name                False\n",
       "region              False\n",
       "hub_lng             False\n",
       "hub_lat             False\n",
       "vehicle_capacity    False\n",
       "delivery_id         False\n",
       "delivery_lng        False\n",
       "delivery_lat        False\n",
       "delivery_size       False\n",
       "dtype: bool"
      ]
     },
     "execution_count": 17,
     "metadata": {},
     "output_type": "execute_result"
    }
   ],
   "source": [
    "df_deliveries.isna().any()"
   ]
  },
  {
   "cell_type": "markdown",
   "id": "22849ecb",
   "metadata": {
    "papermill": {
     "duration": 0.020525,
     "end_time": "2024-07-10T16:04:21.467725",
     "exception": false,
     "start_time": "2024-07-10T16:04:21.447200",
     "status": "completed"
    },
    "tags": []
   },
   "source": [
    "Os dados mantiveram sua qualidade, não havendo colunas com dados faltantes e com seus tipos de valores coerentes."
   ]
  },
  {
   "cell_type": "markdown",
   "id": "a52dbcae",
   "metadata": {
    "papermill": {
     "duration": 0.020995,
     "end_time": "2024-07-10T16:04:21.509589",
     "exception": false,
     "start_time": "2024-07-10T16:04:21.488594",
     "status": "completed"
    },
    "tags": []
   },
   "source": [
    "## 4\\. Manipulação dos dados"
   ]
  },
  {
   "cell_type": "markdown",
   "id": "cb9af0a5",
   "metadata": {
    "papermill": {
     "duration": 0.020577,
     "end_time": "2024-07-10T16:04:21.551166",
     "exception": false,
     "start_time": "2024-07-10T16:04:21.530589",
     "status": "completed"
    },
    "tags": []
   },
   "source": [
    "### **4.1. Enriquecimento** "
   ]
  },
  {
   "cell_type": "markdown",
   "id": "f6cec5b5",
   "metadata": {
    "papermill": {
     "duration": 0.021398,
     "end_time": "2024-07-10T16:04:21.593623",
     "exception": false,
     "start_time": "2024-07-10T16:04:21.572225",
     "status": "completed"
    },
    "tags": []
   },
   "source": [
    "Com dos dados presentes é possível realizar um enriquecimento, trazendo mais dados pertinentes que podem ser analisados, neste notebook será realizado o processo de **Geocodificação reversa** e também o **cálculo de distância** entre o `Hub` e o `destino da entrega`."
   ]
  },
  {
   "cell_type": "markdown",
   "id": "4176a33e",
   "metadata": {
    "papermill": {
     "duration": 0.021044,
     "end_time": "2024-07-10T16:04:21.635821",
     "exception": false,
     "start_time": "2024-07-10T16:04:21.614777",
     "status": "completed"
    },
    "tags": []
   },
   "source": [
    "### **4.1.1. Geocodificação Reversa Hubs** "
   ]
  },
  {
   "cell_type": "markdown",
   "id": "da7a82e8",
   "metadata": {
    "papermill": {
     "duration": 0.020781,
     "end_time": "2024-07-10T16:04:21.678132",
     "exception": false,
     "start_time": "2024-07-10T16:04:21.657351",
     "status": "completed"
    },
    "tags": []
   },
   "source": [
    "A **geocodificação** é o processo que transforma uma localização descrita por um texto (endereço, nome do local, etc.) em sua respectiva coodernada geográfica (latitude e longitude). A **geocodificação reversa** faz o oposto, transforma uma coordenada geográfica de um local em suas respectivas descrições textuais."
   ]
  },
  {
   "cell_type": "markdown",
   "id": "950146b7",
   "metadata": {
    "papermill": {
     "duration": 0.020467,
     "end_time": "2024-07-10T16:04:21.719617",
     "exception": false,
     "start_time": "2024-07-10T16:04:21.699150",
     "status": "completed"
    },
    "tags": []
   },
   "source": [
    "Empresas como Google, Bing e Yahoo! fornecem **geocodificação** como serviço (e cobram por isso). Existe uma projeto *open source* chamado de [OpenStreetMap](https://www.openstreetmap.org/) que mantem um serviço gratuito de geocodificação chamado [Nominatim](https://nominatim.org/), serviço este que apresenta como limitação a quantia de [uma única consuta por segundo](https://operations.osmfoundation.org/policies/nominatim/). Será utlizado este serviço através do pacote Python `geopy` para fazer a operação reversa e enriquecer o DataFrame principal."
   ]
  },
  {
   "cell_type": "markdown",
   "id": "78dd46c1",
   "metadata": {
    "papermill": {
     "duration": 0.020929,
     "end_time": "2024-07-10T16:04:21.761490",
     "exception": false,
     "start_time": "2024-07-10T16:04:21.740561",
     "status": "completed"
    },
    "tags": []
   },
   "source": [
    "Será aplicada a geocodificação nas coordenadas das três regiões dos hubs e extrair informações de `cidade` e `bairro`. Após isso realizar a integração ao DataFrame principal."
   ]
  },
  {
   "cell_type": "code",
   "execution_count": 18,
   "id": "01a1edb6",
   "metadata": {
    "execution": {
     "iopub.execute_input": "2024-07-10T16:04:21.805027Z",
     "iopub.status.busy": "2024-07-10T16:04:21.804647Z",
     "iopub.status.idle": "2024-07-10T16:04:25.318282Z",
     "shell.execute_reply": "2024-07-10T16:04:25.317109Z"
    },
    "papermill": {
     "duration": 3.538555,
     "end_time": "2024-07-10T16:04:25.321039",
     "exception": false,
     "start_time": "2024-07-10T16:04:21.782484",
     "status": "completed"
    },
    "tags": []
   },
   "outputs": [],
   "source": [
    "# Criação de um DataFrame com as latitudes e longitudes dos Hubs\n",
    "df_hub = df_deliveries[['region', 'hub_lng', 'hub_lat']]\n",
    "df_hub = df_hub.drop_duplicates().reset_index(drop= True)\n",
    "\n",
    "# Transformação das colunas 'hub_lng' e 'hub_lat' em somente uma coluna para poder ser feito o processo de geocodificação reversa\n",
    "df_hub['coordinates'] = df_hub['hub_lat'].astype(str) + ','+ df_hub['hub_lng'].astype(str)\n",
    "df_hub = df_hub.drop(columns= ['hub_lng','hub_lat'])\n",
    "\n",
    "# Aplicação da geocdificação reversa\n",
    "geolocator = Nominatim(user_agent=\"luccas_geocoder\")\n",
    "geocoder = RateLimiter(geolocator.reverse, min_delay_seconds=1)\n",
    "df_hub['geodata'] = df_hub['coordinates'].apply(geocoder)\n",
    "\n",
    "# Utilização do método 'normalize'\n",
    "hub_geodata = pd.json_normalize(df_hub['geodata'].apply(lambda data: data.raw))\n",
    "\n",
    "# Utilização do método 'where' do pacote numpy para completar campos que estejam vazios\n",
    "hub_geodata = hub_geodata[['address.town','address.suburb','address.city']]\n",
    "hub_geodata.rename(columns={'address.town': 'hub_town', 'address.suburb': 'hub_suburb', 'address.city': 'hub_city'}, inplace=True)\n",
    "hub_geodata[\"hub_city\"] = np.where(hub_geodata[\"hub_city\"].notna(), hub_geodata[\"hub_city\"], hub_geodata[\"hub_town\"])\n",
    "hub_geodata[\"hub_suburb\"] = np.where(hub_geodata[\"hub_suburb\"].notna(), hub_geodata[\"hub_suburb\"], hub_geodata[\"hub_city\"])\n",
    "hub_geodata = hub_geodata.drop(columns= ['hub_town'])\n",
    "\n",
    "# inclusão ao DataFrame dos hubs, utilizando o método 'merge'\n",
    "df_hub = pd.merge(left= df_hub, right= hub_geodata, left_index= True, right_index= True)\n",
    "df_hub.drop(columns= ['coordinates','geodata'])\n",
    "\n",
    "# inclusão ao DataFrame principal, utilizando o método 'merge'\n",
    "df_deliveries = pd.merge(left= df_deliveries, right= df_hub, how= 'inner', on= 'region')\n",
    "df_deliveries = df_deliveries[['name', 'region', 'hub_lng', 'hub_lat', 'hub_city', 'hub_suburb', 'vehicle_capacity', 'delivery_id', 'delivery_size', 'delivery_lng', 'delivery_lat']]\n",
    "df_deliveries = df_deliveries.sort_values(by= 'region').reset_index(drop= True)\n"
   ]
  },
  {
   "cell_type": "markdown",
   "id": "4ef4a135",
   "metadata": {
    "papermill": {
     "duration": 0.021074,
     "end_time": "2024-07-10T16:04:25.363565",
     "exception": false,
     "start_time": "2024-07-10T16:04:25.342491",
     "status": "completed"
    },
    "tags": []
   },
   "source": [
    "### **4.1.1. Geocodificação Reversa Entregas** "
   ]
  },
  {
   "cell_type": "markdown",
   "id": "8e1df967",
   "metadata": {
    "papermill": {
     "duration": 0.020599,
     "end_time": "2024-07-10T16:04:25.405223",
     "exception": false,
     "start_time": "2024-07-10T16:04:25.384624",
     "status": "completed"
    },
    "tags": []
   },
   "source": [
    "Enquanto o **hub** contem apenas **3** geolocalizações distintas, as **entregas** somam o total de **636.149**, o que levaria em torno de 7 dias para serem consultadas no servidor do Nominatim, dada a restrição de uma consulta por segundo. Contudo, para cargas pesadas como esta, o software oferece uma instalação [local](https://nominatim.org/release-docs/latest/admin/Installation/) que pode ser utilizada sem restrição."
   ]
  },
  {
   "cell_type": "markdown",
   "id": "18d082a8",
   "metadata": {
    "papermill": {
     "duration": 0.020928,
     "end_time": "2024-07-10T16:04:25.447385",
     "exception": false,
     "start_time": "2024-07-10T16:04:25.426457",
     "status": "completed"
    },
    "tags": []
   },
   "source": [
    "O processo de geocodificação das entregas foi realizado de forma local pelo Professor [André Perez](https://www.linkedin.com/in/andremarcosperez/) e disponibilizado pelo mesmo através do [link](https://raw.githubusercontent.com/andre-marcos-perez/ebac-course-utils/main/dataset/deliveries-geodata.csv) para fins de estudo, deixando todas as entregas já processadas com os dados de geocodificação em um único arquivo `CSV`"
   ]
  },
  {
   "cell_type": "code",
   "execution_count": 19,
   "id": "fa931c70",
   "metadata": {
    "execution": {
     "iopub.execute_input": "2024-07-10T16:04:25.492690Z",
     "iopub.status.busy": "2024-07-10T16:04:25.491706Z",
     "iopub.status.idle": "2024-07-10T16:04:28.850657Z",
     "shell.execute_reply": "2024-07-10T16:04:28.849257Z"
    },
    "papermill": {
     "duration": 3.384038,
     "end_time": "2024-07-10T16:04:28.853724",
     "exception": false,
     "start_time": "2024-07-10T16:04:25.469686",
     "status": "completed"
    },
    "tags": []
   },
   "outputs": [],
   "source": [
    "!wget -q \"https://raw.githubusercontent.com/andre-marcos-perez/ebac-course-utils/main/dataset/deliveries-geodata.csv\" -O deliveries-geodata.csv"
   ]
  },
  {
   "cell_type": "code",
   "execution_count": 20,
   "id": "0ba15521",
   "metadata": {
    "execution": {
     "iopub.execute_input": "2024-07-10T16:04:28.898535Z",
     "iopub.status.busy": "2024-07-10T16:04:28.898086Z",
     "iopub.status.idle": "2024-07-10T16:04:29.546563Z",
     "shell.execute_reply": "2024-07-10T16:04:29.545585Z"
    },
    "papermill": {
     "duration": 0.673865,
     "end_time": "2024-07-10T16:04:29.549097",
     "exception": false,
     "start_time": "2024-07-10T16:04:28.875232",
     "status": "completed"
    },
    "tags": []
   },
   "outputs": [],
   "source": [
    "# Leitura do arquivo csv e armazenando em um DataFrame pandas\n",
    "deliveries_geodata = pd.read_csv('deliveries-geodata.csv')\n",
    "\n",
    "## inclusão ao DataFrame principal, utilizando o método 'merge'\n",
    "df_deliveries = pd.merge(left= df_deliveries, right= deliveries_geodata[['delivery_city','delivery_suburb']], left_index= True, right_index= True)"
   ]
  },
  {
   "cell_type": "markdown",
   "id": "e6b33467",
   "metadata": {
    "papermill": {
     "duration": 0.021614,
     "end_time": "2024-07-10T16:04:29.591695",
     "exception": false,
     "start_time": "2024-07-10T16:04:29.570081",
     "status": "completed"
    },
    "tags": []
   },
   "source": [
    "### **4.1.3. Distância das Entregas ao Hub**"
   ]
  },
  {
   "cell_type": "markdown",
   "id": "e919e4dd",
   "metadata": {
    "papermill": {
     "duration": 0.020659,
     "end_time": "2024-07-10T16:04:29.633950",
     "exception": false,
     "start_time": "2024-07-10T16:04:29.613291",
     "status": "completed"
    },
    "tags": []
   },
   "source": [
    "Para o cálculo da distância entre o ponto de entrega e o Hub será utilizado da fórmula de haversine, Ela nos permite calcular a distância entre dois pontos na superfície de uma esfera usando suas coordenadas de latitude e longitude.\n",
    "Em python há diversar formas de realizar esse cálculo, o próprio pacote `geopy` possui um métódo para realizar esse cálculo, porém neste notebook será utilizado o pacote `haversine`."
   ]
  },
  {
   "cell_type": "markdown",
   "id": "59e323be",
   "metadata": {
    "papermill": {
     "duration": 0.020759,
     "end_time": "2024-07-10T16:04:29.675573",
     "exception": false,
     "start_time": "2024-07-10T16:04:29.654814",
     "status": "completed"
    },
    "tags": []
   },
   "source": [
    "O pacote `haversine` utiliza de tuplas de dados float para realizar o cálculo, sendo assim será adicionado mais duas colunas ao DataFrame principal, sendo elas as coordenadas das entregas e dos hubs."
   ]
  },
  {
   "cell_type": "code",
   "execution_count": 21,
   "id": "2b892eff",
   "metadata": {
    "execution": {
     "iopub.execute_input": "2024-07-10T16:04:29.719161Z",
     "iopub.status.busy": "2024-07-10T16:04:29.718752Z",
     "iopub.status.idle": "2024-07-10T16:04:43.756653Z",
     "shell.execute_reply": "2024-07-10T16:04:43.755461Z"
    },
    "papermill": {
     "duration": 14.062762,
     "end_time": "2024-07-10T16:04:43.759283",
     "exception": false,
     "start_time": "2024-07-10T16:04:29.696521",
     "status": "completed"
    },
    "tags": []
   },
   "outputs": [],
   "source": [
    "# Criação das coodenas em tuplas para poderem serem lidas pelo pacote 'haversine'\n",
    "df_deliveries['cordinates_hub'] = df_deliveries.apply(lambda row: (row['hub_lat'], row['hub_lng']), axis=1)\n",
    "df_deliveries['cordinates_delivery'] = df_deliveries.apply(lambda row: (row['delivery_lat'], row['delivery_lng']), axis=1)"
   ]
  },
  {
   "cell_type": "markdown",
   "id": "154f5bbd",
   "metadata": {
    "papermill": {
     "duration": 0.021562,
     "end_time": "2024-07-10T16:04:43.802164",
     "exception": false,
     "start_time": "2024-07-10T16:04:43.780602",
     "status": "completed"
    },
    "tags": []
   },
   "source": [
    "Após a criação das colunas com as coordenas em tuplas é possível realizar o cálculo da distancia entre os pontos. O valor retornado será a distancia em Kilometros (km), e será armazenado em uma nova coluna chamada de `distance_hub`."
   ]
  },
  {
   "cell_type": "code",
   "execution_count": 22,
   "id": "dc362a88",
   "metadata": {
    "execution": {
     "iopub.execute_input": "2024-07-10T16:04:43.846866Z",
     "iopub.status.busy": "2024-07-10T16:04:43.846484Z",
     "iopub.status.idle": "2024-07-10T16:04:52.962192Z",
     "shell.execute_reply": "2024-07-10T16:04:52.961096Z"
    },
    "papermill": {
     "duration": 9.140999,
     "end_time": "2024-07-10T16:04:52.964780",
     "exception": false,
     "start_time": "2024-07-10T16:04:43.823781",
     "status": "completed"
    },
    "tags": []
   },
   "outputs": [],
   "source": [
    "df_deliveries['distance_hub'] = df_deliveries.apply(lambda row: haversine(row['cordinates_hub'],row['cordinates_delivery']),axis=1)"
   ]
  },
  {
   "cell_type": "markdown",
   "id": "37ff99f0",
   "metadata": {
    "papermill": {
     "duration": 0.021039,
     "end_time": "2024-07-10T16:04:53.006872",
     "exception": false,
     "start_time": "2024-07-10T16:04:52.985833",
     "status": "completed"
    },
    "tags": []
   },
   "source": [
    "Como as colunas `cordinates_hub` e `cordinates_delivery` não serão mais utilizadas elas irão ser removidas do DataFrame principal"
   ]
  },
  {
   "cell_type": "code",
   "execution_count": 23,
   "id": "f92bce42",
   "metadata": {
    "execution": {
     "iopub.execute_input": "2024-07-10T16:04:53.054035Z",
     "iopub.status.busy": "2024-07-10T16:04:53.053648Z",
     "iopub.status.idle": "2024-07-10T16:04:53.217941Z",
     "shell.execute_reply": "2024-07-10T16:04:53.216878Z"
    },
    "papermill": {
     "duration": 0.191867,
     "end_time": "2024-07-10T16:04:53.220364",
     "exception": false,
     "start_time": "2024-07-10T16:04:53.028497",
     "status": "completed"
    },
    "tags": []
   },
   "outputs": [
    {
     "data": {
      "text/html": [
       "<div>\n",
       "<style scoped>\n",
       "    .dataframe tbody tr th:only-of-type {\n",
       "        vertical-align: middle;\n",
       "    }\n",
       "\n",
       "    .dataframe tbody tr th {\n",
       "        vertical-align: top;\n",
       "    }\n",
       "\n",
       "    .dataframe thead th {\n",
       "        text-align: right;\n",
       "    }\n",
       "</style>\n",
       "<table border=\"1\" class=\"dataframe\">\n",
       "  <thead>\n",
       "    <tr style=\"text-align: right;\">\n",
       "      <th></th>\n",
       "      <th>name</th>\n",
       "      <th>region</th>\n",
       "      <th>hub_lng</th>\n",
       "      <th>hub_lat</th>\n",
       "      <th>hub_city</th>\n",
       "      <th>hub_suburb</th>\n",
       "      <th>vehicle_capacity</th>\n",
       "      <th>delivery_id</th>\n",
       "      <th>delivery_size</th>\n",
       "      <th>delivery_lng</th>\n",
       "      <th>delivery_lat</th>\n",
       "      <th>delivery_city</th>\n",
       "      <th>delivery_suburb</th>\n",
       "      <th>distance_hub</th>\n",
       "    </tr>\n",
       "  </thead>\n",
       "  <tbody>\n",
       "    <tr>\n",
       "      <th>0</th>\n",
       "      <td>cvrp-0-df-86</td>\n",
       "      <td>df-0</td>\n",
       "      <td>-47.802665</td>\n",
       "      <td>-15.657014</td>\n",
       "      <td>Sobradinho</td>\n",
       "      <td>Sobradinho</td>\n",
       "      <td>180</td>\n",
       "      <td>6d7e4a72932f83ce6d893dd44d393e9f</td>\n",
       "      <td>1</td>\n",
       "      <td>-47.851411</td>\n",
       "      <td>-15.670954</td>\n",
       "      <td>Ceilândia</td>\n",
       "      <td>P Sul</td>\n",
       "      <td>5.444313</td>\n",
       "    </tr>\n",
       "    <tr>\n",
       "      <th>1</th>\n",
       "      <td>cvrp-0-df-85</td>\n",
       "      <td>df-0</td>\n",
       "      <td>-47.802665</td>\n",
       "      <td>-15.657014</td>\n",
       "      <td>Sobradinho</td>\n",
       "      <td>Sobradinho</td>\n",
       "      <td>180</td>\n",
       "      <td>3fd4fc9c4dc9f7604fdd5b09d283095a</td>\n",
       "      <td>7</td>\n",
       "      <td>-47.857706</td>\n",
       "      <td>-15.659008</td>\n",
       "      <td>Ceilândia</td>\n",
       "      <td>P Sul</td>\n",
       "      <td>5.897367</td>\n",
       "    </tr>\n",
       "    <tr>\n",
       "      <th>2</th>\n",
       "      <td>cvrp-0-df-85</td>\n",
       "      <td>df-0</td>\n",
       "      <td>-47.802665</td>\n",
       "      <td>-15.657014</td>\n",
       "      <td>Sobradinho</td>\n",
       "      <td>Sobradinho</td>\n",
       "      <td>180</td>\n",
       "      <td>6059e6fc9e023a42140680e7e7f936c8</td>\n",
       "      <td>5</td>\n",
       "      <td>-47.859240</td>\n",
       "      <td>-15.658342</td>\n",
       "      <td>Ceilândia</td>\n",
       "      <td>P Sul</td>\n",
       "      <td>6.059293</td>\n",
       "    </tr>\n",
       "  </tbody>\n",
       "</table>\n",
       "</div>"
      ],
      "text/plain": [
       "           name region    hub_lng    hub_lat    hub_city  hub_suburb  \\\n",
       "0  cvrp-0-df-86   df-0 -47.802665 -15.657014  Sobradinho  Sobradinho   \n",
       "1  cvrp-0-df-85   df-0 -47.802665 -15.657014  Sobradinho  Sobradinho   \n",
       "2  cvrp-0-df-85   df-0 -47.802665 -15.657014  Sobradinho  Sobradinho   \n",
       "\n",
       "   vehicle_capacity                       delivery_id  delivery_size  \\\n",
       "0               180  6d7e4a72932f83ce6d893dd44d393e9f              1   \n",
       "1               180  3fd4fc9c4dc9f7604fdd5b09d283095a              7   \n",
       "2               180  6059e6fc9e023a42140680e7e7f936c8              5   \n",
       "\n",
       "   delivery_lng  delivery_lat delivery_city delivery_suburb  distance_hub  \n",
       "0    -47.851411    -15.670954     Ceilândia           P Sul      5.444313  \n",
       "1    -47.857706    -15.659008     Ceilândia           P Sul      5.897367  \n",
       "2    -47.859240    -15.658342     Ceilândia           P Sul      6.059293  "
      ]
     },
     "execution_count": 23,
     "metadata": {},
     "output_type": "execute_result"
    }
   ],
   "source": [
    "df_deliveries = df_deliveries.drop(columns = ['cordinates_hub','cordinates_delivery'])\n",
    "df_deliveries.head(3)"
   ]
  },
  {
   "cell_type": "markdown",
   "id": "a6f4fad5",
   "metadata": {
    "papermill": {
     "duration": 0.020871,
     "end_time": "2024-07-10T16:04:53.262773",
     "exception": false,
     "start_time": "2024-07-10T16:04:53.241902",
     "status": "completed"
    },
    "tags": []
   },
   "source": [
    "### **4.2. Controle de Qualidade**"
   ]
  },
  {
   "cell_type": "code",
   "execution_count": 24,
   "id": "18988fa4",
   "metadata": {
    "execution": {
     "iopub.execute_input": "2024-07-10T16:04:53.308639Z",
     "iopub.status.busy": "2024-07-10T16:04:53.308276Z",
     "iopub.status.idle": "2024-07-10T16:04:53.536843Z",
     "shell.execute_reply": "2024-07-10T16:04:53.535810Z"
    },
    "papermill": {
     "duration": 0.254782,
     "end_time": "2024-07-10T16:04:53.539414",
     "exception": false,
     "start_time": "2024-07-10T16:04:53.284632",
     "status": "completed"
    },
    "tags": []
   },
   "outputs": [
    {
     "name": "stdout",
     "output_type": "stream",
     "text": [
      "<class 'pandas.core.frame.DataFrame'>\n",
      "RangeIndex: 636149 entries, 0 to 636148\n",
      "Data columns (total 14 columns):\n",
      " #   Column            Non-Null Count   Dtype  \n",
      "---  ------            --------------   -----  \n",
      " 0   name              636149 non-null  object \n",
      " 1   region            636149 non-null  object \n",
      " 2   hub_lng           636149 non-null  float64\n",
      " 3   hub_lat           636149 non-null  float64\n",
      " 4   hub_city          636149 non-null  object \n",
      " 5   hub_suburb        636149 non-null  object \n",
      " 6   vehicle_capacity  636149 non-null  int64  \n",
      " 7   delivery_id       636149 non-null  object \n",
      " 8   delivery_size     636149 non-null  int64  \n",
      " 9   delivery_lng      636149 non-null  float64\n",
      " 10  delivery_lat      636149 non-null  float64\n",
      " 11  delivery_city     634447 non-null  object \n",
      " 12  delivery_suburb   476264 non-null  object \n",
      " 13  distance_hub      636149 non-null  float64\n",
      "dtypes: float64(5), int64(2), object(7)\n",
      "memory usage: 67.9+ MB\n"
     ]
    }
   ],
   "source": [
    "df_deliveries.info()"
   ]
  },
  {
   "cell_type": "code",
   "execution_count": 25,
   "id": "cc5c1d3d",
   "metadata": {
    "execution": {
     "iopub.execute_input": "2024-07-10T16:04:53.584179Z",
     "iopub.status.busy": "2024-07-10T16:04:53.583811Z",
     "iopub.status.idle": "2024-07-10T16:04:53.801443Z",
     "shell.execute_reply": "2024-07-10T16:04:53.800404Z"
    },
    "papermill": {
     "duration": 0.242845,
     "end_time": "2024-07-10T16:04:53.803779",
     "exception": false,
     "start_time": "2024-07-10T16:04:53.560934",
     "status": "completed"
    },
    "tags": []
   },
   "outputs": [
    {
     "data": {
      "text/plain": [
       "name                False\n",
       "region              False\n",
       "hub_lng             False\n",
       "hub_lat             False\n",
       "hub_city            False\n",
       "hub_suburb          False\n",
       "vehicle_capacity    False\n",
       "delivery_id         False\n",
       "delivery_size       False\n",
       "delivery_lng        False\n",
       "delivery_lat        False\n",
       "delivery_city        True\n",
       "delivery_suburb      True\n",
       "distance_hub        False\n",
       "dtype: bool"
      ]
     },
     "execution_count": 25,
     "metadata": {},
     "output_type": "execute_result"
    }
   ],
   "source": [
    "df_deliveries.isna().any()"
   ]
  },
  {
   "cell_type": "markdown",
   "id": "2bcf2152",
   "metadata": {
    "papermill": {
     "duration": 0.021055,
     "end_time": "2024-07-10T16:04:53.846652",
     "exception": false,
     "start_time": "2024-07-10T16:04:53.825597",
     "status": "completed"
    },
    "tags": []
   },
   "source": [
    "Nota-se que com a adição dos dados das cidades e bairros, através da geocodificação, algumas linhas obtiveram dados faltantes. Abaixo será verificado a porcentagem dos dados nulos e com base nessa quantitativa analisar se é possível utilizá-los para análise."
   ]
  },
  {
   "cell_type": "code",
   "execution_count": 26,
   "id": "dc2956a8",
   "metadata": {
    "execution": {
     "iopub.execute_input": "2024-07-10T16:04:53.890962Z",
     "iopub.status.busy": "2024-07-10T16:04:53.890572Z",
     "iopub.status.idle": "2024-07-10T16:04:53.951832Z",
     "shell.execute_reply": "2024-07-10T16:04:53.950626Z"
    },
    "papermill": {
     "duration": 0.085868,
     "end_time": "2024-07-10T16:04:53.954015",
     "exception": false,
     "start_time": "2024-07-10T16:04:53.868147",
     "status": "completed"
    },
    "tags": []
   },
   "outputs": [
    {
     "name": "stdout",
     "output_type": "stream",
     "text": [
      "A coluna \"delivery_city\" possui 0.27% de valores nulos \n",
      "A coluna \"delivery_suburb\" possui 25.13% de valores nulos\n"
     ]
    }
   ],
   "source": [
    "percent_null_city = round((df_deliveries['delivery_city'].isna().sum() / len(df_deliveries)) * 100, 2)\n",
    "percent_null_suburb = round((df_deliveries['delivery_suburb'].isna().sum() / len(df_deliveries)) * 100, 2)\n",
    "print(f'A coluna \"delivery_city\" possui {percent_null_city}% de valores nulos \\nA coluna \"delivery_suburb\" possui {percent_null_suburb}% de valores nulos')"
   ]
  },
  {
   "cell_type": "code",
   "execution_count": 27,
   "id": "ca3dcd3e",
   "metadata": {
    "execution": {
     "iopub.execute_input": "2024-07-10T16:04:53.998683Z",
     "iopub.status.busy": "2024-07-10T16:04:53.998299Z",
     "iopub.status.idle": "2024-07-10T16:04:54.055427Z",
     "shell.execute_reply": "2024-07-10T16:04:54.054337Z"
    },
    "papermill": {
     "duration": 0.082195,
     "end_time": "2024-07-10T16:04:54.057670",
     "exception": false,
     "start_time": "2024-07-10T16:04:53.975475",
     "status": "completed"
    },
    "tags": []
   },
   "outputs": [
    {
     "data": {
      "text/plain": [
       "delivery_city\n",
       "Brasília                23.42\n",
       "Taguatinga               7.16\n",
       "Sudoeste / Octogonal     6.95\n",
       "Ceilândia                5.97\n",
       "Águas Claras             5.83\n",
       "Guará                    5.56\n",
       "Lago Sul                 4.56\n",
       "Sobradinho               4.54\n",
       "Lago Norte               4.08\n",
       "Gama                     3.49\n",
       "Name: count, dtype: float64"
      ]
     },
     "execution_count": 27,
     "metadata": {},
     "output_type": "execute_result"
    }
   ],
   "source": [
    "prop_city = round(df_deliveries['delivery_city'].value_counts() / len(df_deliveries) * 100, 2)\n",
    "prop_city.sort_values(ascending= False).head(10)"
   ]
  },
  {
   "cell_type": "code",
   "execution_count": 28,
   "id": "acde3014",
   "metadata": {
    "execution": {
     "iopub.execute_input": "2024-07-10T16:04:54.105297Z",
     "iopub.status.busy": "2024-07-10T16:04:54.104913Z",
     "iopub.status.idle": "2024-07-10T16:04:54.154309Z",
     "shell.execute_reply": "2024-07-10T16:04:54.153269Z"
    },
    "papermill": {
     "duration": 0.076445,
     "end_time": "2024-07-10T16:04:54.156517",
     "exception": false,
     "start_time": "2024-07-10T16:04:54.080072",
     "status": "completed"
    },
    "tags": []
   },
   "outputs": [
    {
     "data": {
      "text/plain": [
       "delivery_suburb\n",
       "Brasília            8.46\n",
       "Asa Norte           7.66\n",
       "Taguatinga          6.34\n",
       "Asa Sul             5.93\n",
       "Águas Claras        5.66\n",
       "Guará               5.56\n",
       "Samambaia           2.65\n",
       "Sobradinho          1.81\n",
       "Recanto das Emas    1.50\n",
       "P Sul               1.28\n",
       "Name: count, dtype: float64"
      ]
     },
     "execution_count": 28,
     "metadata": {},
     "output_type": "execute_result"
    }
   ],
   "source": [
    "prop_suburb = round(df_deliveries['delivery_suburb'].value_counts() / len(df_deliveries) * 100, 2)\n",
    "prop_suburb.sort_values(ascending= False).head(10)"
   ]
  },
  {
   "cell_type": "markdown",
   "id": "b8dbfd12",
   "metadata": {
    "papermill": {
     "duration": 0.021439,
     "end_time": "2024-07-10T16:04:54.199745",
     "exception": false,
     "start_time": "2024-07-10T16:04:54.178306",
     "status": "completed"
    },
    "tags": []
   },
   "source": [
    "A informações dos Bairros não estão muito precisas, por haver 'Brasília' como um bairro e também pelo fato de 25% dos dados dessa coluna estarem faltantes, sendo assim não será utilizado para análise. \n",
    "A coluna das cidades, por sua vez, demonstrou uma precisão melhor e com menos de 1% de dados faltantes poderá ser analisada."
   ]
  },
  {
   "cell_type": "markdown",
   "id": "5a6177d4",
   "metadata": {
    "papermill": {
     "duration": 0.021927,
     "end_time": "2024-07-10T16:04:54.243374",
     "exception": false,
     "start_time": "2024-07-10T16:04:54.221447",
     "status": "completed"
    },
    "tags": []
   },
   "source": [
    "## 5\\. Visualização"
   ]
  },
  {
   "cell_type": "markdown",
   "id": "94fa4960",
   "metadata": {
    "papermill": {
     "duration": 0.02155,
     "end_time": "2024-07-10T16:04:54.286920",
     "exception": false,
     "start_time": "2024-07-10T16:04:54.265370",
     "status": "completed"
    },
    "tags": []
   },
   "source": [
    "### **5.1. Distribuição de Entregas por Regiao**"
   ]
  },
  {
   "cell_type": "markdown",
   "id": "e610f57e",
   "metadata": {
    "papermill": {
     "duration": 0.021634,
     "end_time": "2024-07-10T16:04:54.330505",
     "exception": false,
     "start_time": "2024-07-10T16:04:54.308871",
     "status": "completed"
    },
    "tags": []
   },
   "source": [
    "Será utilizado o pacote Python GeopPandas ([link](https://geopandas.org/) da documentação) para visualizar as coordenadas dos **hubs** e das **entregas** no mapa do Distrito Federal, segmentados pela região dos **hubs**. O pacote adiciona funcionalidades geoespaciais ao pacote Python Pandas."
   ]
  },
  {
   "cell_type": "markdown",
   "id": "d5e8f884",
   "metadata": {
    "papermill": {
     "duration": 0.022084,
     "end_time": "2024-07-10T16:04:54.374373",
     "exception": false,
     "start_time": "2024-07-10T16:04:54.352289",
     "status": "completed"
    },
    "tags": []
   },
   "source": [
    "**Mapa do Distrito Federal**"
   ]
  },
  {
   "cell_type": "markdown",
   "id": "6a26f2cd",
   "metadata": {
    "papermill": {
     "duration": 0.021281,
     "end_time": "2024-07-10T16:04:54.417301",
     "exception": false,
     "start_time": "2024-07-10T16:04:54.396020",
     "status": "completed"
    },
    "tags": []
   },
   "source": [
    "O download dos dados do mapa do Distrito Federal será feito no site Catálogo de Mapas do IPEDF Codeplan através do seguinte [link](https://catalogo.ipe.df.gov.br) para criar o DataFrame `mapa`"
   ]
  },
  {
   "cell_type": "code",
   "execution_count": 29,
   "id": "9401b03b",
   "metadata": {
    "execution": {
     "iopub.execute_input": "2024-07-10T16:04:54.463315Z",
     "iopub.status.busy": "2024-07-10T16:04:54.462943Z",
     "iopub.status.idle": "2024-07-10T16:04:57.826838Z",
     "shell.execute_reply": "2024-07-10T16:04:57.825038Z"
    },
    "papermill": {
     "duration": 3.390087,
     "end_time": "2024-07-10T16:04:57.829735",
     "exception": false,
     "start_time": "2024-07-10T16:04:54.439648",
     "status": "completed"
    },
    "tags": []
   },
   "outputs": [],
   "source": [
    "!wget -q 'https://catalogo.ipe.df.gov.br/geoserver/ows?service=WFS&version=1.0.0&request=GetFeature&typename=geonode%3ALimite_RA_2019&outputFormat=SHAPE-ZIP&srs=EPSG%3A4326&format_options=charset%3AUTF-8' -O df.zip\n",
    "!unzip -q df.zip -d ./map_df"
   ]
  },
  {
   "cell_type": "code",
   "execution_count": 30,
   "id": "90a66a9f",
   "metadata": {
    "execution": {
     "iopub.execute_input": "2024-07-10T16:04:57.875973Z",
     "iopub.status.busy": "2024-07-10T16:04:57.875517Z",
     "iopub.status.idle": "2024-07-10T16:04:58.480282Z",
     "shell.execute_reply": "2024-07-10T16:04:58.478852Z"
    },
    "papermill": {
     "duration": 0.630868,
     "end_time": "2024-07-10T16:04:58.482789",
     "exception": false,
     "start_time": "2024-07-10T16:04:57.851921",
     "status": "completed"
    },
    "tags": []
   },
   "outputs": [],
   "source": [
    "mapa = gp.read_file('/kaggle/working/map_df/Limite_RA_2019.shp')"
   ]
  },
  {
   "cell_type": "markdown",
   "id": "4ea71dfd",
   "metadata": {
    "papermill": {
     "duration": 0.022643,
     "end_time": "2024-07-10T16:04:58.527548",
     "exception": false,
     "start_time": "2024-07-10T16:04:58.504905",
     "status": "completed"
    },
    "tags": []
   },
   "source": [
    "Utilizando o Geopandas será adicionado a colunas `geometry` que será utilizado para a visualização no mapa"
   ]
  },
  {
   "cell_type": "markdown",
   "id": "f20dc1a9",
   "metadata": {
    "papermill": {
     "duration": 0.022556,
     "end_time": "2024-07-10T16:04:58.572035",
     "exception": false,
     "start_time": "2024-07-10T16:04:58.549479",
     "status": "completed"
    },
    "tags": []
   },
   "source": [
    "* **Mapeamento**"
   ]
  },
  {
   "cell_type": "code",
   "execution_count": 31,
   "id": "ad264ba2",
   "metadata": {
    "execution": {
     "iopub.execute_input": "2024-07-10T16:04:58.617313Z",
     "iopub.status.busy": "2024-07-10T16:04:58.616939Z",
     "iopub.status.idle": "2024-07-10T16:05:22.586554Z",
     "shell.execute_reply": "2024-07-10T16:05:22.585405Z"
    },
    "papermill": {
     "duration": 23.9954,
     "end_time": "2024-07-10T16:05:22.589330",
     "exception": false,
     "start_time": "2024-07-10T16:04:58.593930",
     "status": "completed"
    },
    "tags": []
   },
   "outputs": [],
   "source": [
    "# Mapeamento dos hubs\n",
    "df_hubs = df_deliveries[['region','hub_lng','hub_lat']].drop_duplicates().reset_index(drop= True)\n",
    "df_geo_hub = gp.GeoDataFrame(df_hubs, geometry= gp.points_from_xy(df_hubs['hub_lng'], df_hubs['hub_lat']))\n",
    "\n",
    "# Mapeamento das entregas\n",
    "df_geo_deliveries = gp.GeoDataFrame(df_deliveries, geometry= gp.points_from_xy(df_deliveries['delivery_lng'], df_deliveries['delivery_lat']))"
   ]
  },
  {
   "cell_type": "markdown",
   "id": "bd35070f",
   "metadata": {
    "papermill": {
     "duration": 0.021513,
     "end_time": "2024-07-10T16:05:22.632630",
     "exception": false,
     "start_time": "2024-07-10T16:05:22.611117",
     "status": "completed"
    },
    "tags": []
   },
   "source": [
    "* **Vizualização**"
   ]
  },
  {
   "cell_type": "code",
   "execution_count": 32,
   "id": "539bb38e",
   "metadata": {
    "execution": {
     "iopub.execute_input": "2024-07-10T16:05:22.678942Z",
     "iopub.status.busy": "2024-07-10T16:05:22.678521Z",
     "iopub.status.idle": "2024-07-10T16:06:05.299654Z",
     "shell.execute_reply": "2024-07-10T16:06:05.298310Z"
    },
    "papermill": {
     "duration": 42.678379,
     "end_time": "2024-07-10T16:06:05.334220",
     "exception": false,
     "start_time": "2024-07-10T16:05:22.655841",
     "status": "completed"
    },
    "tags": []
   },
   "outputs": [
    {
     "data": {
      "image/png": "[encoded data removed]",
      "text/plain": [
       "<Figure size 1968.5x1968.5 with 1 Axes>"
      ]
     },
     "metadata": {},
     "output_type": "display_data"
    }
   ],
   "source": [
    "# Criação do mapa\n",
    "fig, ax = plt.subplots(figsize = (50/2.54, 50/2.54))\n",
    "mapa.plot(ax= ax, color= 'oldlace')\n",
    "\n",
    "# Plot das entregas separadas por região\n",
    "df_geo_deliveries.query(\"region == 'df-0'\").plot(ax = ax, color= 'deeppink', markersize= 2, label='df-0')\n",
    "df_geo_deliveries.query(\"region == 'df-1'\").plot(ax = ax, color= 'orangered', markersize= 2, label='df-1')\n",
    "df_geo_deliveries.query(\"region == 'df-2'\").plot(ax = ax, color= 'c', markersize= 2, label='df-2')\n",
    "\n",
    "# Plot dos hubs\n",
    "df_geo_hub.query(\"region == 'df-0'\").plot(ax = ax, marker= '$df-0$', color= 'black', markersize= 800)\n",
    "df_geo_hub.query(\"region == 'df-1'\").plot(ax = ax, marker= '$df-1$', color= 'black', markersize= 800)\n",
    "df_geo_hub.query(\"region == 'df-2'\").plot(ax = ax, marker= '$df-2$', color= 'black', markersize= 800)\n",
    "\n",
    "# Titulos e legendas\n",
    "plt.title('Entregas no Distrito Federal por Região', fontdict= {'fontsize':14})\n",
    "lgnd = plt.legend(prop={\"size\": 12})\n",
    "for handle in lgnd.legend_handles:\n",
    "    handle.set_sizes([50])"
   ]
  },
  {
   "cell_type": "markdown",
   "id": "850e7b5b",
   "metadata": {
    "papermill": {
     "duration": 0.026319,
     "end_time": "2024-07-10T16:06:05.387871",
     "exception": false,
     "start_time": "2024-07-10T16:06:05.361552",
     "status": "completed"
    },
    "tags": []
   },
   "source": [
    "* **Insights**"
   ]
  },
  {
   "cell_type": "markdown",
   "id": "fd69463d",
   "metadata": {
    "papermill": {
     "duration": 0.026995,
     "end_time": "2024-07-10T16:06:05.441667",
     "exception": false,
     "start_time": "2024-07-10T16:06:05.414672",
     "status": "completed"
    },
    "tags": []
   },
   "source": [
    "1. As entregas estão corretamente alocadas aos seus respectivos hubs;\n",
    "\n",
    "1. Os hub da região 1 é reponsável por entregas mais concentradas, por se tratar de uma área que possui maior densidade demográfica e por isso as entregas são menos espalhadas nessas regiões;\n",
    "\n",
    "1. Os hubs das regiões 0 e 2 possuem maior dispersão das entregas, principalmente da região 0, tendo entregas mais distantes e muito espalhadas nas áreas rurais;"
   ]
  },
  {
   "cell_type": "markdown",
   "id": "13fab562",
   "metadata": {
    "papermill": {
     "duration": 0.026469,
     "end_time": "2024-07-10T16:06:05.495892",
     "exception": false,
     "start_time": "2024-07-10T16:06:05.469423",
     "status": "completed"
    },
    "tags": []
   },
   "source": [
    "### **5.2. Proporção de Entregas por Regiao**"
   ]
  },
  {
   "cell_type": "markdown",
   "id": "dbbd0b74",
   "metadata": {
    "papermill": {
     "duration": 0.026769,
     "end_time": "2024-07-10T16:06:05.550177",
     "exception": false,
     "start_time": "2024-07-10T16:06:05.523408",
     "status": "completed"
    },
    "tags": []
   },
   "source": [
    "* **Agregação em Porcentagem**"
   ]
  },
  {
   "cell_type": "code",
   "execution_count": 33,
   "id": "73a55c1b",
   "metadata": {
    "execution": {
     "iopub.execute_input": "2024-07-10T16:06:05.606865Z",
     "iopub.status.busy": "2024-07-10T16:06:05.606474Z",
     "iopub.status.idle": "2024-07-10T16:06:05.683523Z",
     "shell.execute_reply": "2024-07-10T16:06:05.682497Z"
    },
    "papermill": {
     "duration": 0.108728,
     "end_time": "2024-07-10T16:06:05.686236",
     "exception": false,
     "start_time": "2024-07-10T16:06:05.577508",
     "status": "completed"
    },
    "tags": []
   },
   "outputs": [],
   "source": [
    "df_proportion = pd.DataFrame(df_deliveries[['region','vehicle_capacity']].value_counts(normalize= True)).reset_index()\n",
    "df_proportion = df_proportion.drop(columns= 'vehicle_capacity')\n",
    "df_proportion['proportion'] = df_proportion['proportion'].apply(lambda value: round(value * 100, 2))"
   ]
  },
  {
   "cell_type": "markdown",
   "id": "aaaeda6d",
   "metadata": {
    "papermill": {
     "duration": 0.02746,
     "end_time": "2024-07-10T16:06:05.740887",
     "exception": false,
     "start_time": "2024-07-10T16:06:05.713427",
     "status": "completed"
    },
    "tags": []
   },
   "source": [
    "* **Visualização**"
   ]
  },
  {
   "cell_type": "code",
   "execution_count": 34,
   "id": "331bb6b7",
   "metadata": {
    "execution": {
     "iopub.execute_input": "2024-07-10T16:06:05.797618Z",
     "iopub.status.busy": "2024-07-10T16:06:05.797209Z",
     "iopub.status.idle": "2024-07-10T16:06:06.083771Z",
     "shell.execute_reply": "2024-07-10T16:06:06.082583Z"
    },
    "papermill": {
     "duration": 0.3179,
     "end_time": "2024-07-10T16:06:06.086226",
     "exception": false,
     "start_time": "2024-07-10T16:06:05.768326",
     "status": "completed"
    },
    "tags": []
   },
   "outputs": [
    {
     "data": {
      "image/png": "[encoded data removed]",
      "text/plain": [
       "<Figure size 640x480 with 1 Axes>"
      ]
     },
     "metadata": {},
     "output_type": "display_data"
    }
   ],
   "source": [
    "with sns.axes_style('darkgrid'):\n",
    "    graph1 = sns.barplot(data= df_proportion, x='region', y='proportion', palette= 'flare')\n",
    "    graph1.set(title= 'Proporção de entregas por região', xlabel= 'Região', ylabel= 'Proporção (%)')"
   ]
  },
  {
   "cell_type": "markdown",
   "id": "bac32979",
   "metadata": {
    "papermill": {
     "duration": 0.026972,
     "end_time": "2024-07-10T16:06:06.140465",
     "exception": false,
     "start_time": "2024-07-10T16:06:06.113493",
     "status": "completed"
    },
    "tags": []
   },
   "source": [
    "* **Insights**"
   ]
  },
  {
   "cell_type": "markdown",
   "id": "b04525bc",
   "metadata": {
    "papermill": {
     "duration": 0.026907,
     "end_time": "2024-07-10T16:06:06.194580",
     "exception": false,
     "start_time": "2024-07-10T16:06:06.167673",
     "status": "completed"
    },
    "tags": []
   },
   "source": [
    "1. A região 0 representa 10% de todas as entregas, porém mesmo assim possui a mesma capacidade de veículos do demais hubs, porém deve-se levar em consideração que essa região que realiza entregas mais distantes, podendo justificar a capacide de veículos;\n",
    "\n",
    "1. A região 1 representa quase 50% de todas as entregas, sendo a região com mais entregas a serem feitas, por se tratar também de uma região metropolitana e de alta demanada;"
   ]
  },
  {
   "cell_type": "markdown",
   "id": "4d017cea",
   "metadata": {
    "papermill": {
     "duration": 0.026935,
     "end_time": "2024-07-10T16:06:06.249990",
     "exception": false,
     "start_time": "2024-07-10T16:06:06.223055",
     "status": "completed"
    },
    "tags": []
   },
   "source": [
    "### **5.3. Tamanho das Entregas por Regiao**"
   ]
  },
  {
   "cell_type": "markdown",
   "id": "1f985e5b",
   "metadata": {
    "papermill": {
     "duration": 0.027182,
     "end_time": "2024-07-10T16:06:06.304448",
     "exception": false,
     "start_time": "2024-07-10T16:06:06.277266",
     "status": "completed"
    },
    "tags": []
   },
   "source": [
    "* **Separação dos dados**"
   ]
  },
  {
   "cell_type": "code",
   "execution_count": 35,
   "id": "bd44729f",
   "metadata": {
    "execution": {
     "iopub.execute_input": "2024-07-10T16:06:06.362541Z",
     "iopub.status.busy": "2024-07-10T16:06:06.362154Z",
     "iopub.status.idle": "2024-07-10T16:06:06.460350Z",
     "shell.execute_reply": "2024-07-10T16:06:06.459047Z"
    },
    "papermill": {
     "duration": 0.129273,
     "end_time": "2024-07-10T16:06:06.462875",
     "exception": false,
     "start_time": "2024-07-10T16:06:06.333602",
     "status": "completed"
    },
    "tags": []
   },
   "outputs": [],
   "source": [
    "df_deliveries_sizes = pd.DataFrame(df_deliveries[['region','delivery_size']])\n",
    "df_deliveries_sizes= df_deliveries_sizes.sort_values('delivery_size', ascending= True).reset_index()"
   ]
  },
  {
   "cell_type": "markdown",
   "id": "99b3e345",
   "metadata": {
    "papermill": {
     "duration": 0.026579,
     "end_time": "2024-07-10T16:06:06.516774",
     "exception": false,
     "start_time": "2024-07-10T16:06:06.490195",
     "status": "completed"
    },
    "tags": []
   },
   "source": [
    "* **Visualização**"
   ]
  },
  {
   "cell_type": "code",
   "execution_count": 36,
   "id": "4915eda7",
   "metadata": {
    "execution": {
     "iopub.execute_input": "2024-07-10T16:06:06.574956Z",
     "iopub.status.busy": "2024-07-10T16:06:06.574563Z",
     "iopub.status.idle": "2024-07-10T16:06:07.177163Z",
     "shell.execute_reply": "2024-07-10T16:06:07.175880Z"
    },
    "papermill": {
     "duration": 0.63416,
     "end_time": "2024-07-10T16:06:07.179586",
     "exception": false,
     "start_time": "2024-07-10T16:06:06.545426",
     "status": "completed"
    },
    "tags": []
   },
   "outputs": [
    {
     "data": {
      "image/png": "[encoded data removed]",
      "text/plain": [
       "<Figure size 640x480 with 1 Axes>"
      ]
     },
     "metadata": {},
     "output_type": "display_data"
    }
   ],
   "source": [
    "with sns.axes_style('darkgrid'):\n",
    "    graph2 = sns.boxplot(data= df_deliveries_sizes, x= 'delivery_size', y='region', palette= 'flare')\n",
    "    graph2.set(title= 'Tamanho médio das entregas por região', xlabel= 'Tamanho da Entrega', ylabel= 'Região')"
   ]
  },
  {
   "cell_type": "markdown",
   "id": "398a8fbe",
   "metadata": {
    "papermill": {
     "duration": 0.027295,
     "end_time": "2024-07-10T16:06:07.234479",
     "exception": false,
     "start_time": "2024-07-10T16:06:07.207184",
     "status": "completed"
    },
    "tags": []
   },
   "source": [
    "* **Insights**"
   ]
  },
  {
   "cell_type": "markdown",
   "id": "2b283730",
   "metadata": {
    "papermill": {
     "duration": 0.0274,
     "end_time": "2024-07-10T16:06:07.289548",
     "exception": false,
     "start_time": "2024-07-10T16:06:07.262148",
     "status": "completed"
    },
    "tags": []
   },
   "source": [
    "1. Todas as regiões possuem distribuição dos tamanhos das entregas relativamente simétricas, sem outliers aparentes\n",
    "\n",
    "1. A região 0 possui uma mediana ligeiramente abaixo das outras regiões.\n",
    "\n",
    "Aparentemente não há nenhuma relação relevante entre os tamanhos das entregas com as suas regiões "
   ]
  },
  {
   "cell_type": "markdown",
   "id": "20eb8a6c",
   "metadata": {
    "papermill": {
     "duration": 0.02835,
     "end_time": "2024-07-10T16:06:07.347415",
     "exception": false,
     "start_time": "2024-07-10T16:06:07.319065",
     "status": "completed"
    },
    "tags": []
   },
   "source": [
    "### **5.4. Quantidade de entregas por cidade**"
   ]
  },
  {
   "cell_type": "markdown",
   "id": "3f7bb8bf",
   "metadata": {
    "papermill": {
     "duration": 0.027425,
     "end_time": "2024-07-10T16:06:07.403400",
     "exception": false,
     "start_time": "2024-07-10T16:06:07.375975",
     "status": "completed"
    },
    "tags": []
   },
   "source": [
    "* **Agregação**"
   ]
  },
  {
   "cell_type": "code",
   "execution_count": 37,
   "id": "a181a8e3",
   "metadata": {
    "execution": {
     "iopub.execute_input": "2024-07-10T16:06:07.460808Z",
     "iopub.status.busy": "2024-07-10T16:06:07.460420Z",
     "iopub.status.idle": "2024-07-10T16:06:07.513538Z",
     "shell.execute_reply": "2024-07-10T16:06:07.512458Z"
    },
    "papermill": {
     "duration": 0.084313,
     "end_time": "2024-07-10T16:06:07.515727",
     "exception": false,
     "start_time": "2024-07-10T16:06:07.431414",
     "status": "completed"
    },
    "tags": []
   },
   "outputs": [],
   "source": [
    "df_deliveries_cities = pd.DataFrame(df_deliveries['delivery_city'].value_counts())\n",
    "df_deliveries_cities = df_deliveries_cities.sort_values('count', ascending= False).reset_index()"
   ]
  },
  {
   "cell_type": "markdown",
   "id": "1b3fe2b7",
   "metadata": {
    "papermill": {
     "duration": 0.027397,
     "end_time": "2024-07-10T16:06:07.570882",
     "exception": false,
     "start_time": "2024-07-10T16:06:07.543485",
     "status": "completed"
    },
    "tags": []
   },
   "source": [
    "* **Visualização**"
   ]
  },
  {
   "cell_type": "code",
   "execution_count": 38,
   "id": "8ccec6e9",
   "metadata": {
    "execution": {
     "iopub.execute_input": "2024-07-10T16:06:07.629190Z",
     "iopub.status.busy": "2024-07-10T16:06:07.628761Z",
     "iopub.status.idle": "2024-07-10T16:06:08.076566Z",
     "shell.execute_reply": "2024-07-10T16:06:08.075286Z"
    },
    "papermill": {
     "duration": 0.480806,
     "end_time": "2024-07-10T16:06:08.079187",
     "exception": false,
     "start_time": "2024-07-10T16:06:07.598381",
     "status": "completed"
    },
    "tags": []
   },
   "outputs": [
    {
     "data": {
      "image/png": "[encoded data removed]",
      "text/plain": [
       "<Figure size 640x480 with 1 Axes>"
      ]
     },
     "metadata": {},
     "output_type": "display_data"
    }
   ],
   "source": [
    "with sns.axes_style('darkgrid'):\n",
    "    graph3 = sns.barplot(data= df_deliveries_cities.loc[0:9], x= 'count', y= 'delivery_city', palette= 'flare')\n",
    "    graph3.set(title= 'Quantidade de entregas por Cidade (Ranking Top 10)', xlabel= 'Quantidade de entregas', ylabel= 'Cidades')"
   ]
  },
  {
   "cell_type": "markdown",
   "id": "9eefeed6",
   "metadata": {
    "papermill": {
     "duration": 0.028426,
     "end_time": "2024-07-10T16:06:08.135749",
     "exception": false,
     "start_time": "2024-07-10T16:06:08.107323",
     "status": "completed"
    },
    "tags": []
   },
   "source": [
    "* **Insights**"
   ]
  },
  {
   "cell_type": "markdown",
   "id": "f078a853",
   "metadata": {
    "papermill": {
     "duration": 0.028049,
     "end_time": "2024-07-10T16:06:08.192145",
     "exception": false,
     "start_time": "2024-07-10T16:06:08.164096",
     "status": "completed"
    },
    "tags": []
   },
   "source": [
    "1. A cidade onde há mais entregas é a principal e mais populosa cidade do Distrito, possuindo aproximadamente 15mil entregas somente em Brasília.\n",
    "\n"
   ]
  },
  {
   "cell_type": "markdown",
   "id": "e6135899",
   "metadata": {
    "papermill": {
     "duration": 0.0279,
     "end_time": "2024-07-10T16:06:08.248405",
     "exception": false,
     "start_time": "2024-07-10T16:06:08.220505",
     "status": "completed"
    },
    "tags": []
   },
   "source": [
    "### **5.5. Distância das entregas**"
   ]
  },
  {
   "cell_type": "markdown",
   "id": "280e1b62",
   "metadata": {
    "papermill": {
     "duration": 0.028293,
     "end_time": "2024-07-10T16:06:08.305758",
     "exception": false,
     "start_time": "2024-07-10T16:06:08.277465",
     "status": "completed"
    },
    "tags": []
   },
   "source": [
    "* **Ordenação**"
   ]
  },
  {
   "cell_type": "code",
   "execution_count": 39,
   "id": "92529cc6",
   "metadata": {
    "execution": {
     "iopub.execute_input": "2024-07-10T16:06:08.367575Z",
     "iopub.status.busy": "2024-07-10T16:06:08.367169Z",
     "iopub.status.idle": "2024-07-10T16:06:08.515936Z",
     "shell.execute_reply": "2024-07-10T16:06:08.514791Z"
    },
    "papermill": {
     "duration": 0.181466,
     "end_time": "2024-07-10T16:06:08.518530",
     "exception": false,
     "start_time": "2024-07-10T16:06:08.337064",
     "status": "completed"
    },
    "tags": []
   },
   "outputs": [],
   "source": [
    "df_distance_deliveries = pd.DataFrame(df_deliveries[['distance_hub','region']])\n",
    "df_distance_deliveries = df_distance_deliveries.sort_values('distance_hub', ascending= True).reset_index()"
   ]
  },
  {
   "cell_type": "markdown",
   "id": "8a2c4bb0",
   "metadata": {
    "papermill": {
     "duration": 0.030351,
     "end_time": "2024-07-10T16:06:08.577786",
     "exception": false,
     "start_time": "2024-07-10T16:06:08.547435",
     "status": "completed"
    },
    "tags": []
   },
   "source": [
    "* **Visualização**"
   ]
  },
  {
   "cell_type": "code",
   "execution_count": 40,
   "id": "bb6401fb",
   "metadata": {
    "execution": {
     "iopub.execute_input": "2024-07-10T16:06:08.638662Z",
     "iopub.status.busy": "2024-07-10T16:06:08.637683Z",
     "iopub.status.idle": "2024-07-10T16:06:09.517691Z",
     "shell.execute_reply": "2024-07-10T16:06:09.516540Z"
    },
    "papermill": {
     "duration": 0.913168,
     "end_time": "2024-07-10T16:06:09.519987",
     "exception": false,
     "start_time": "2024-07-10T16:06:08.606819",
     "status": "completed"
    },
    "tags": []
   },
   "outputs": [
    {
     "data": {
      "image/png": "[encoded data removed]",
      "text/plain": [
       "<Figure size 1968.5x590.551 with 1 Axes>"
      ]
     },
     "metadata": {},
     "output_type": "display_data"
    }
   ],
   "source": [
    "with sns.axes_style('darkgrid'):\n",
    "    fig, ax = plt.subplots(figsize= (50/2.54, 15/2.54))\n",
    "    graph4 = sns.boxplot(data= df_distance_deliveries, x= 'distance_hub', y= 'region', palette= 'flare', ax = ax)\n",
    "    graph4.set(title= 'Relação da distância das entregas ao Hub de distribuição', xlabel= 'Distância (Km)', ylabel= 'Região')"
   ]
  },
  {
   "cell_type": "markdown",
   "id": "e3051368",
   "metadata": {
    "papermill": {
     "duration": 0.028633,
     "end_time": "2024-07-10T16:06:09.577560",
     "exception": false,
     "start_time": "2024-07-10T16:06:09.548927",
     "status": "completed"
    },
    "tags": []
   },
   "source": [
    "* **Insights**"
   ]
  },
  {
   "cell_type": "markdown",
   "id": "c52c4a7e",
   "metadata": {
    "papermill": {
     "duration": 0.028676,
     "end_time": "2024-07-10T16:06:09.634949",
     "exception": false,
     "start_time": "2024-07-10T16:06:09.606273",
     "status": "completed"
    },
    "tags": []
   },
   "source": [
    "1. A região 0 é a que detêm as entregas mais distantes, possuindo entegas que ultrapassam os 65km, até mesmo as médias das entregas desta região se encontram mais dispersas entre 5km a 15km.\n",
    "\n",
    "1. A região 1 é a que possui entregas mais concentradas sem muitas dispersões, ficando muito concentrada em entregas próximas ao Hub.\n",
    "\n",
    "1. A região 2 se encontra em uma relação intermediária com as outras regiões, tendo entregas ligeiramente mais dispersas, porém não tão distantes como a região 0"
   ]
  },
  {
   "cell_type": "markdown",
   "id": "14220437",
   "metadata": {
    "papermill": {
     "duration": 0.029113,
     "end_time": "2024-07-10T16:06:09.692727",
     "exception": false,
     "start_time": "2024-07-10T16:06:09.663614",
     "status": "completed"
    },
    "tags": []
   },
   "source": [
    "## 6\\. Conclusão"
   ]
  },
  {
   "cell_type": "markdown",
   "id": "53923d15",
   "metadata": {
    "papermill": {
     "duration": 0.02859,
     "end_time": "2024-07-10T16:06:09.750463",
     "exception": false,
     "start_time": "2024-07-10T16:06:09.721873",
     "status": "completed"
    },
    "tags": []
   },
   "source": [
    "* O HUB df-0 é o que possui a menor quantidade de entregas, representando aproximadamente 10% de todas as entregas do Distrito, porém é o que possui uma maior variação das distância de entregas, possuindo entregas superiores a 65km de distância\n",
    "\n",
    "* o HUB df-1 está localizado na região central e mais populosa, onde está localizado o maior número de entregas, representando quase 50% de todas as entregas, mesmo possuindo a mesma capacidade das demais regiões. A distância das entregas são mais concentradas.\n",
    "\n",
    "* o HUB df-2 possui a quantidade de entregas de aproximadamente 40% ficando apenas um pouco abaixo da região 1, com uma variação de distância das entregas chegando com outliers de até 40km.\n",
    "\n",
    "Em geral nota-se que todos os HUBs possuem a mesma capacidade, mesmo não sendo proporcional a quantidade de entregas. Podendo assim a redistribuição da capacidade de frotas por HUB ser um fator a ser discutido, pois mesmo tendo entregas muito distantes a serem feitas pela região 0, podem ser adotadas rotas de entregas que sejam mais eficientes e que demandem um menor número de frotas, deslocando assim parte dessa frota para as outras duas regiões."
   ]
  },
  {
   "cell_type": "markdown",
   "id": "3ccd7c70",
   "metadata": {
    "papermill": {
     "duration": 0.028552,
     "end_time": "2024-07-10T16:06:09.808069",
     "exception": false,
     "start_time": "2024-07-10T16:06:09.779517",
     "status": "completed"
    },
    "tags": []
   },
   "source": [
    "Para consolidação de uma analise mais minunciosa as informações do tempo de cada entrega poderia estar presente na base de dados, podendo assim tirar mais conclusões a respeito das entregas, e assim poder analisar melhor as particularidades de cada entrega."
   ]
  }
 ],
 "metadata": {
  "kaggle": {
   "accelerator": "none",
   "dataSources": [],
   "dockerImageVersionId": 30732,
   "isGpuEnabled": false,
   "isInternetEnabled": true,
   "language": "python",
   "sourceType": "notebook"
  },
  "kernelspec": {
   "display_name": "Python 3",
   "language": "python",
   "name": "python3"
  },
  "language_info": {
   "codemirror_mode": {
    "name": "ipython",
    "version": 3
   },
   "file_extension": ".py",
   "mimetype": "text/x-python",
   "name": "python",
   "nbconvert_exporter": "python",
   "pygments_lexer": "ipython3",
   "version": "3.10.13"
  },
  "papermill": {
   "default_parameters": {},
   "duration": 129.151895,
   "end_time": "2024-07-10T16:06:12.459021",
   "environment_variables": {},
   "exception": null,
   "input_path": "__notebook__.ipynb",
   "output_path": "__notebook__.ipynb",
   "parameters": {},
   "start_time": "2024-07-10T16:04:03.307126",
   "version": "2.5.0"
  }
 },
 "nbformat": 4,
 "nbformat_minor": 5
}
